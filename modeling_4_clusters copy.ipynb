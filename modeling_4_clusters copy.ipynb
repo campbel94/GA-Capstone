{
 "cells": [
  {
   "cell_type": "markdown",
   "id": "4cf5ea6d",
   "metadata": {},
   "source": [
    "# Modeling"
   ]
  },
  {
   "cell_type": "code",
   "execution_count": 1,
   "id": "aa7359a6",
   "metadata": {},
   "outputs": [],
   "source": [
    "import pandas as pd\n",
    "import numpy as np\n",
    "import matplotlib.pyplot as plt\n",
    "import pprint\n",
    "\n",
    "# import time\n",
    "# import math\n",
    "\n",
    "# import json\n",
    "# import requests\n",
    "# import gmaps\n",
    "# from sodapy import Socrata\n",
    "import geopandas as gpd\n",
    "from shapely.geometry import Polygon, LineString, Point\n",
    "# from shapely.geometry.polygon import Polygon\n",
    "\n",
    "from sklearn.preprocessing import StandardScaler\n",
    "from sklearn.metrics import silhouette_score\n",
    "from sklearn.cluster import KMeans\n",
    "\n",
    "import warnings\n",
    "warnings.filterwarnings('ignore')"
   ]
  },
  {
   "cell_type": "markdown",
   "id": "90142462",
   "metadata": {},
   "source": [
    "### Read in data"
   ]
  },
  {
   "cell_type": "code",
   "execution_count": 2,
   "id": "79fa8795",
   "metadata": {},
   "outputs": [
    {
     "data": {
      "text/html": [
       "<div>\n",
       "<style scoped>\n",
       "    .dataframe tbody tr th:only-of-type {\n",
       "        vertical-align: middle;\n",
       "    }\n",
       "\n",
       "    .dataframe tbody tr th {\n",
       "        vertical-align: top;\n",
       "    }\n",
       "\n",
       "    .dataframe thead th {\n",
       "        text-align: right;\n",
       "    }\n",
       "</style>\n",
       "<table border=\"1\" class=\"dataframe\">\n",
       "  <thead>\n",
       "    <tr style=\"text-align: right;\">\n",
       "      <th></th>\n",
       "      <th>venue</th>\n",
       "      <th>address</th>\n",
       "      <th>latitude</th>\n",
       "      <th>longitude</th>\n",
       "      <th>neighborhood</th>\n",
       "      <th>category</th>\n",
       "    </tr>\n",
       "  </thead>\n",
       "  <tbody>\n",
       "    <tr>\n",
       "      <th>0</th>\n",
       "      <td>McDonald's</td>\n",
       "      <td>13749 N Highway 183</td>\n",
       "      <td>30.459677</td>\n",
       "      <td>-97.792390</td>\n",
       "      <td>ANDERSON MILL</td>\n",
       "      <td>Fast Food Restaurant</td>\n",
       "    </tr>\n",
       "    <tr>\n",
       "      <th>1</th>\n",
       "      <td>P. Terry's Burger Stand</td>\n",
       "      <td>13770 N Highway 183</td>\n",
       "      <td>30.461215</td>\n",
       "      <td>-97.795304</td>\n",
       "      <td>ANDERSON MILL</td>\n",
       "      <td>Burger Joint</td>\n",
       "    </tr>\n",
       "    <tr>\n",
       "      <th>2</th>\n",
       "      <td>Pluckers Wing Bar</td>\n",
       "      <td>11066 Pecan Park Blvd Ste G</td>\n",
       "      <td>30.468469</td>\n",
       "      <td>-97.803540</td>\n",
       "      <td>AVERY RANCH--LAKELINE</td>\n",
       "      <td>Wings Joint</td>\n",
       "    </tr>\n",
       "    <tr>\n",
       "      <th>3</th>\n",
       "      <td>The Halal Gurus</td>\n",
       "      <td>13729 US-183 suite 890</td>\n",
       "      <td>30.458305</td>\n",
       "      <td>-97.791930</td>\n",
       "      <td>ANDERSON MILL</td>\n",
       "      <td>Middle Eastern Restaurant</td>\n",
       "    </tr>\n",
       "    <tr>\n",
       "      <th>4</th>\n",
       "      <td>Texas Roadhouse</td>\n",
       "      <td>13435 N. US 183 SVRD NB, Bldg. 7</td>\n",
       "      <td>30.447093</td>\n",
       "      <td>-97.788729</td>\n",
       "      <td>ANDERSON MILL</td>\n",
       "      <td>Steakhouse</td>\n",
       "    </tr>\n",
       "  </tbody>\n",
       "</table>\n",
       "</div>"
      ],
      "text/plain": [
       "                     venue                           address   latitude  \\\n",
       "0               McDonald's               13749 N Highway 183  30.459677   \n",
       "1  P. Terry's Burger Stand               13770 N Highway 183  30.461215   \n",
       "2        Pluckers Wing Bar       11066 Pecan Park Blvd Ste G  30.468469   \n",
       "3          The Halal Gurus            13729 US-183 suite 890  30.458305   \n",
       "4          Texas Roadhouse  13435 N. US 183 SVRD NB, Bldg. 7  30.447093   \n",
       "\n",
       "   longitude           neighborhood                   category  \n",
       "0 -97.792390          ANDERSON MILL       Fast Food Restaurant  \n",
       "1 -97.795304          ANDERSON MILL               Burger Joint  \n",
       "2 -97.803540  AVERY RANCH--LAKELINE                Wings Joint  \n",
       "3 -97.791930          ANDERSON MILL  Middle Eastern Restaurant  \n",
       "4 -97.788729          ANDERSON MILL                 Steakhouse  "
      ]
     },
     "execution_count": 2,
     "metadata": {},
     "output_type": "execute_result"
    }
   ],
   "source": [
    "df = pd.read_csv('data/venue_neighborhood_category.csv')\n",
    "df.drop(columns=['Unnamed: 0'], inplace=True)\n",
    "df.head()"
   ]
  },
  {
   "cell_type": "code",
   "execution_count": 3,
   "id": "e9e38ac1",
   "metadata": {},
   "outputs": [
    {
     "data": {
      "text/html": [
       "<div>\n",
       "<style scoped>\n",
       "    .dataframe tbody tr th:only-of-type {\n",
       "        vertical-align: middle;\n",
       "    }\n",
       "\n",
       "    .dataframe tbody tr th {\n",
       "        vertical-align: top;\n",
       "    }\n",
       "\n",
       "    .dataframe thead th {\n",
       "        text-align: right;\n",
       "    }\n",
       "</style>\n",
       "<table border=\"1\" class=\"dataframe\">\n",
       "  <thead>\n",
       "    <tr style=\"text-align: right;\">\n",
       "      <th></th>\n",
       "      <th>neighborhood</th>\n",
       "      <th>category</th>\n",
       "    </tr>\n",
       "  </thead>\n",
       "  <tbody>\n",
       "    <tr>\n",
       "      <th>0</th>\n",
       "      <td>ANDERSON MILL</td>\n",
       "      <td>Fast Food Restaurant</td>\n",
       "    </tr>\n",
       "    <tr>\n",
       "      <th>1</th>\n",
       "      <td>ANDERSON MILL</td>\n",
       "      <td>Burger Joint</td>\n",
       "    </tr>\n",
       "    <tr>\n",
       "      <th>2</th>\n",
       "      <td>AVERY RANCH--LAKELINE</td>\n",
       "      <td>Wings Joint</td>\n",
       "    </tr>\n",
       "    <tr>\n",
       "      <th>3</th>\n",
       "      <td>ANDERSON MILL</td>\n",
       "      <td>Middle Eastern Restaurant</td>\n",
       "    </tr>\n",
       "    <tr>\n",
       "      <th>4</th>\n",
       "      <td>ANDERSON MILL</td>\n",
       "      <td>Steakhouse</td>\n",
       "    </tr>\n",
       "  </tbody>\n",
       "</table>\n",
       "</div>"
      ],
      "text/plain": [
       "            neighborhood                   category\n",
       "0          ANDERSON MILL       Fast Food Restaurant\n",
       "1          ANDERSON MILL               Burger Joint\n",
       "2  AVERY RANCH--LAKELINE                Wings Joint\n",
       "3          ANDERSON MILL  Middle Eastern Restaurant\n",
       "4          ANDERSON MILL                 Steakhouse"
      ]
     },
     "execution_count": 3,
     "metadata": {},
     "output_type": "execute_result"
    }
   ],
   "source": [
    "clusters_df = pd.read_csv('data/venue_neighborhood_category.csv')\n",
    "clusters_df.drop(columns=['Unnamed: 0','venue', 'address', 'latitude', 'longitude'], inplace=True)\n",
    "clusters_df.head()"
   ]
  },
  {
   "cell_type": "code",
   "execution_count": 4,
   "id": "e04db410",
   "metadata": {},
   "outputs": [
    {
     "data": {
      "text/html": [
       "<div>\n",
       "<style scoped>\n",
       "    .dataframe tbody tr th:only-of-type {\n",
       "        vertical-align: middle;\n",
       "    }\n",
       "\n",
       "    .dataframe tbody tr th {\n",
       "        vertical-align: top;\n",
       "    }\n",
       "\n",
       "    .dataframe thead th {\n",
       "        text-align: right;\n",
       "    }\n",
       "</style>\n",
       "<table border=\"1\" class=\"dataframe\">\n",
       "  <thead>\n",
       "    <tr style=\"text-align: right;\">\n",
       "      <th></th>\n",
       "      <th>American Restaurant</th>\n",
       "      <th>Asian Restaurant</th>\n",
       "      <th>BBQ Joint</th>\n",
       "      <th>Bagel Shop</th>\n",
       "      <th>Bakery</th>\n",
       "      <th>Bistro</th>\n",
       "      <th>Breakfast Spot</th>\n",
       "      <th>Buffet</th>\n",
       "      <th>Burger Joint</th>\n",
       "      <th>Burrito Place</th>\n",
       "      <th>...</th>\n",
       "      <th>Sushi Restaurant</th>\n",
       "      <th>Taco Place</th>\n",
       "      <th>Taiwanese Restaurant</th>\n",
       "      <th>Tapas Restaurant</th>\n",
       "      <th>Tex-Mex Restaurant</th>\n",
       "      <th>Thai Restaurant</th>\n",
       "      <th>Turkish Restaurant</th>\n",
       "      <th>Vegetarian / Vegan Restaurant</th>\n",
       "      <th>Vietnamese Restaurant</th>\n",
       "      <th>Wings Joint</th>\n",
       "    </tr>\n",
       "    <tr>\n",
       "      <th>neighborhood</th>\n",
       "      <th></th>\n",
       "      <th></th>\n",
       "      <th></th>\n",
       "      <th></th>\n",
       "      <th></th>\n",
       "      <th></th>\n",
       "      <th></th>\n",
       "      <th></th>\n",
       "      <th></th>\n",
       "      <th></th>\n",
       "      <th></th>\n",
       "      <th></th>\n",
       "      <th></th>\n",
       "      <th></th>\n",
       "      <th></th>\n",
       "      <th></th>\n",
       "      <th></th>\n",
       "      <th></th>\n",
       "      <th></th>\n",
       "      <th></th>\n",
       "      <th></th>\n",
       "    </tr>\n",
       "  </thead>\n",
       "  <tbody>\n",
       "    <tr>\n",
       "      <th>ALLANDALE</th>\n",
       "      <td>2</td>\n",
       "      <td>2</td>\n",
       "      <td>0</td>\n",
       "      <td>0</td>\n",
       "      <td>1</td>\n",
       "      <td>0</td>\n",
       "      <td>0</td>\n",
       "      <td>0</td>\n",
       "      <td>3</td>\n",
       "      <td>1</td>\n",
       "      <td>...</td>\n",
       "      <td>0</td>\n",
       "      <td>1</td>\n",
       "      <td>0</td>\n",
       "      <td>0</td>\n",
       "      <td>0</td>\n",
       "      <td>1</td>\n",
       "      <td>0</td>\n",
       "      <td>0</td>\n",
       "      <td>1</td>\n",
       "      <td>0</td>\n",
       "    </tr>\n",
       "    <tr>\n",
       "      <th>ANDERSON MILL</th>\n",
       "      <td>1</td>\n",
       "      <td>0</td>\n",
       "      <td>1</td>\n",
       "      <td>1</td>\n",
       "      <td>0</td>\n",
       "      <td>0</td>\n",
       "      <td>1</td>\n",
       "      <td>0</td>\n",
       "      <td>3</td>\n",
       "      <td>0</td>\n",
       "      <td>...</td>\n",
       "      <td>1</td>\n",
       "      <td>3</td>\n",
       "      <td>0</td>\n",
       "      <td>0</td>\n",
       "      <td>0</td>\n",
       "      <td>0</td>\n",
       "      <td>0</td>\n",
       "      <td>0</td>\n",
       "      <td>0</td>\n",
       "      <td>0</td>\n",
       "    </tr>\n",
       "    <tr>\n",
       "      <th>AVERY RANCH--LAKELINE</th>\n",
       "      <td>2</td>\n",
       "      <td>1</td>\n",
       "      <td>1</td>\n",
       "      <td>0</td>\n",
       "      <td>0</td>\n",
       "      <td>0</td>\n",
       "      <td>1</td>\n",
       "      <td>0</td>\n",
       "      <td>1</td>\n",
       "      <td>0</td>\n",
       "      <td>...</td>\n",
       "      <td>0</td>\n",
       "      <td>1</td>\n",
       "      <td>0</td>\n",
       "      <td>0</td>\n",
       "      <td>1</td>\n",
       "      <td>0</td>\n",
       "      <td>0</td>\n",
       "      <td>0</td>\n",
       "      <td>0</td>\n",
       "      <td>1</td>\n",
       "    </tr>\n",
       "    <tr>\n",
       "      <th>BARTON CREEK MALL</th>\n",
       "      <td>1</td>\n",
       "      <td>1</td>\n",
       "      <td>1</td>\n",
       "      <td>1</td>\n",
       "      <td>2</td>\n",
       "      <td>0</td>\n",
       "      <td>0</td>\n",
       "      <td>0</td>\n",
       "      <td>0</td>\n",
       "      <td>0</td>\n",
       "      <td>...</td>\n",
       "      <td>1</td>\n",
       "      <td>0</td>\n",
       "      <td>0</td>\n",
       "      <td>0</td>\n",
       "      <td>1</td>\n",
       "      <td>0</td>\n",
       "      <td>0</td>\n",
       "      <td>0</td>\n",
       "      <td>0</td>\n",
       "      <td>0</td>\n",
       "    </tr>\n",
       "    <tr>\n",
       "      <th>BARTON HILLS</th>\n",
       "      <td>1</td>\n",
       "      <td>1</td>\n",
       "      <td>1</td>\n",
       "      <td>0</td>\n",
       "      <td>0</td>\n",
       "      <td>0</td>\n",
       "      <td>1</td>\n",
       "      <td>0</td>\n",
       "      <td>1</td>\n",
       "      <td>0</td>\n",
       "      <td>...</td>\n",
       "      <td>0</td>\n",
       "      <td>1</td>\n",
       "      <td>0</td>\n",
       "      <td>0</td>\n",
       "      <td>0</td>\n",
       "      <td>0</td>\n",
       "      <td>0</td>\n",
       "      <td>0</td>\n",
       "      <td>0</td>\n",
       "      <td>0</td>\n",
       "    </tr>\n",
       "    <tr>\n",
       "      <th>...</th>\n",
       "      <td>...</td>\n",
       "      <td>...</td>\n",
       "      <td>...</td>\n",
       "      <td>...</td>\n",
       "      <td>...</td>\n",
       "      <td>...</td>\n",
       "      <td>...</td>\n",
       "      <td>...</td>\n",
       "      <td>...</td>\n",
       "      <td>...</td>\n",
       "      <td>...</td>\n",
       "      <td>...</td>\n",
       "      <td>...</td>\n",
       "      <td>...</td>\n",
       "      <td>...</td>\n",
       "      <td>...</td>\n",
       "      <td>...</td>\n",
       "      <td>...</td>\n",
       "      <td>...</td>\n",
       "      <td>...</td>\n",
       "      <td>...</td>\n",
       "    </tr>\n",
       "    <tr>\n",
       "      <th>WINDSOR HILLS</th>\n",
       "      <td>0</td>\n",
       "      <td>0</td>\n",
       "      <td>0</td>\n",
       "      <td>0</td>\n",
       "      <td>0</td>\n",
       "      <td>0</td>\n",
       "      <td>0</td>\n",
       "      <td>0</td>\n",
       "      <td>1</td>\n",
       "      <td>0</td>\n",
       "      <td>...</td>\n",
       "      <td>0</td>\n",
       "      <td>1</td>\n",
       "      <td>0</td>\n",
       "      <td>0</td>\n",
       "      <td>0</td>\n",
       "      <td>0</td>\n",
       "      <td>0</td>\n",
       "      <td>0</td>\n",
       "      <td>0</td>\n",
       "      <td>0</td>\n",
       "    </tr>\n",
       "    <tr>\n",
       "      <th>WINDSOR PARK</th>\n",
       "      <td>1</td>\n",
       "      <td>0</td>\n",
       "      <td>0</td>\n",
       "      <td>0</td>\n",
       "      <td>0</td>\n",
       "      <td>0</td>\n",
       "      <td>0</td>\n",
       "      <td>0</td>\n",
       "      <td>3</td>\n",
       "      <td>0</td>\n",
       "      <td>...</td>\n",
       "      <td>0</td>\n",
       "      <td>2</td>\n",
       "      <td>0</td>\n",
       "      <td>0</td>\n",
       "      <td>0</td>\n",
       "      <td>0</td>\n",
       "      <td>0</td>\n",
       "      <td>0</td>\n",
       "      <td>0</td>\n",
       "      <td>0</td>\n",
       "    </tr>\n",
       "    <tr>\n",
       "      <th>WINDSOR ROAD</th>\n",
       "      <td>0</td>\n",
       "      <td>0</td>\n",
       "      <td>0</td>\n",
       "      <td>0</td>\n",
       "      <td>1</td>\n",
       "      <td>0</td>\n",
       "      <td>0</td>\n",
       "      <td>0</td>\n",
       "      <td>0</td>\n",
       "      <td>0</td>\n",
       "      <td>...</td>\n",
       "      <td>0</td>\n",
       "      <td>0</td>\n",
       "      <td>0</td>\n",
       "      <td>0</td>\n",
       "      <td>0</td>\n",
       "      <td>0</td>\n",
       "      <td>0</td>\n",
       "      <td>0</td>\n",
       "      <td>0</td>\n",
       "      <td>0</td>\n",
       "    </tr>\n",
       "    <tr>\n",
       "      <th>WOOTEN</th>\n",
       "      <td>0</td>\n",
       "      <td>0</td>\n",
       "      <td>1</td>\n",
       "      <td>0</td>\n",
       "      <td>0</td>\n",
       "      <td>0</td>\n",
       "      <td>0</td>\n",
       "      <td>0</td>\n",
       "      <td>1</td>\n",
       "      <td>0</td>\n",
       "      <td>...</td>\n",
       "      <td>0</td>\n",
       "      <td>0</td>\n",
       "      <td>0</td>\n",
       "      <td>0</td>\n",
       "      <td>0</td>\n",
       "      <td>0</td>\n",
       "      <td>0</td>\n",
       "      <td>0</td>\n",
       "      <td>0</td>\n",
       "      <td>0</td>\n",
       "    </tr>\n",
       "    <tr>\n",
       "      <th>ZILKER</th>\n",
       "      <td>0</td>\n",
       "      <td>0</td>\n",
       "      <td>0</td>\n",
       "      <td>0</td>\n",
       "      <td>2</td>\n",
       "      <td>0</td>\n",
       "      <td>1</td>\n",
       "      <td>0</td>\n",
       "      <td>2</td>\n",
       "      <td>0</td>\n",
       "      <td>...</td>\n",
       "      <td>0</td>\n",
       "      <td>0</td>\n",
       "      <td>0</td>\n",
       "      <td>1</td>\n",
       "      <td>0</td>\n",
       "      <td>1</td>\n",
       "      <td>0</td>\n",
       "      <td>0</td>\n",
       "      <td>0</td>\n",
       "      <td>0</td>\n",
       "    </tr>\n",
       "  </tbody>\n",
       "</table>\n",
       "<p>96 rows × 77 columns</p>\n",
       "</div>"
      ],
      "text/plain": [
       "                       American Restaurant  Asian Restaurant  BBQ Joint  \\\n",
       "neighborhood                                                              \n",
       "ALLANDALE                                2                 2          0   \n",
       "ANDERSON MILL                            1                 0          1   \n",
       "AVERY RANCH--LAKELINE                    2                 1          1   \n",
       "BARTON CREEK MALL                        1                 1          1   \n",
       "BARTON HILLS                             1                 1          1   \n",
       "...                                    ...               ...        ...   \n",
       "WINDSOR HILLS                            0                 0          0   \n",
       "WINDSOR PARK                             1                 0          0   \n",
       "WINDSOR ROAD                             0                 0          0   \n",
       "WOOTEN                                   0                 0          1   \n",
       "ZILKER                                   0                 0          0   \n",
       "\n",
       "                       Bagel Shop  Bakery  Bistro  Breakfast Spot  Buffet  \\\n",
       "neighborhood                                                                \n",
       "ALLANDALE                       0       1       0               0       0   \n",
       "ANDERSON MILL                   1       0       0               1       0   \n",
       "AVERY RANCH--LAKELINE           0       0       0               1       0   \n",
       "BARTON CREEK MALL               1       2       0               0       0   \n",
       "BARTON HILLS                    0       0       0               1       0   \n",
       "...                           ...     ...     ...             ...     ...   \n",
       "WINDSOR HILLS                   0       0       0               0       0   \n",
       "WINDSOR PARK                    0       0       0               0       0   \n",
       "WINDSOR ROAD                    0       1       0               0       0   \n",
       "WOOTEN                          0       0       0               0       0   \n",
       "ZILKER                          0       2       0               1       0   \n",
       "\n",
       "                       Burger Joint  Burrito Place  ...  Sushi Restaurant  \\\n",
       "neighborhood                                        ...                     \n",
       "ALLANDALE                         3              1  ...                 0   \n",
       "ANDERSON MILL                     3              0  ...                 1   \n",
       "AVERY RANCH--LAKELINE             1              0  ...                 0   \n",
       "BARTON CREEK MALL                 0              0  ...                 1   \n",
       "BARTON HILLS                      1              0  ...                 0   \n",
       "...                             ...            ...  ...               ...   \n",
       "WINDSOR HILLS                     1              0  ...                 0   \n",
       "WINDSOR PARK                      3              0  ...                 0   \n",
       "WINDSOR ROAD                      0              0  ...                 0   \n",
       "WOOTEN                            1              0  ...                 0   \n",
       "ZILKER                            2              0  ...                 0   \n",
       "\n",
       "                       Taco Place  Taiwanese Restaurant  Tapas Restaurant  \\\n",
       "neighborhood                                                                \n",
       "ALLANDALE                       1                     0                 0   \n",
       "ANDERSON MILL                   3                     0                 0   \n",
       "AVERY RANCH--LAKELINE           1                     0                 0   \n",
       "BARTON CREEK MALL               0                     0                 0   \n",
       "BARTON HILLS                    1                     0                 0   \n",
       "...                           ...                   ...               ...   \n",
       "WINDSOR HILLS                   1                     0                 0   \n",
       "WINDSOR PARK                    2                     0                 0   \n",
       "WINDSOR ROAD                    0                     0                 0   \n",
       "WOOTEN                          0                     0                 0   \n",
       "ZILKER                          0                     0                 1   \n",
       "\n",
       "                       Tex-Mex Restaurant  Thai Restaurant  \\\n",
       "neighborhood                                                 \n",
       "ALLANDALE                               0                1   \n",
       "ANDERSON MILL                           0                0   \n",
       "AVERY RANCH--LAKELINE                   1                0   \n",
       "BARTON CREEK MALL                       1                0   \n",
       "BARTON HILLS                            0                0   \n",
       "...                                   ...              ...   \n",
       "WINDSOR HILLS                           0                0   \n",
       "WINDSOR PARK                            0                0   \n",
       "WINDSOR ROAD                            0                0   \n",
       "WOOTEN                                  0                0   \n",
       "ZILKER                                  0                1   \n",
       "\n",
       "                       Turkish Restaurant  Vegetarian / Vegan Restaurant  \\\n",
       "neighborhood                                                               \n",
       "ALLANDALE                               0                              0   \n",
       "ANDERSON MILL                           0                              0   \n",
       "AVERY RANCH--LAKELINE                   0                              0   \n",
       "BARTON CREEK MALL                       0                              0   \n",
       "BARTON HILLS                            0                              0   \n",
       "...                                   ...                            ...   \n",
       "WINDSOR HILLS                           0                              0   \n",
       "WINDSOR PARK                            0                              0   \n",
       "WINDSOR ROAD                            0                              0   \n",
       "WOOTEN                                  0                              0   \n",
       "ZILKER                                  0                              0   \n",
       "\n",
       "                       Vietnamese Restaurant  Wings Joint  \n",
       "neighborhood                                               \n",
       "ALLANDALE                                  1            0  \n",
       "ANDERSON MILL                              0            0  \n",
       "AVERY RANCH--LAKELINE                      0            1  \n",
       "BARTON CREEK MALL                          0            0  \n",
       "BARTON HILLS                               0            0  \n",
       "...                                      ...          ...  \n",
       "WINDSOR HILLS                              0            0  \n",
       "WINDSOR PARK                               0            0  \n",
       "WINDSOR ROAD                               0            0  \n",
       "WOOTEN                                     0            0  \n",
       "ZILKER                                     0            0  \n",
       "\n",
       "[96 rows x 77 columns]"
      ]
     },
     "execution_count": 4,
     "metadata": {},
     "output_type": "execute_result"
    }
   ],
   "source": [
    "#One hot encode the 'category' column and groupby the neighborhoods\n",
    "clusters_df = pd.get_dummies(clusters_df, columns=['category'], prefix=\"\", prefix_sep=\"\").groupby('neighborhood').sum()\n",
    "clusters_df"
   ]
  },
  {
   "cell_type": "code",
   "execution_count": 5,
   "id": "2ca22eb5",
   "metadata": {},
   "outputs": [],
   "source": [
    "# clusters_df = pd.get_dummies(clusters_df, columns=['category'], prefix=\"\", prefix_sep=\"\").groupby('neighborhood').sum()\n",
    "# clusters_df"
   ]
  },
  {
   "cell_type": "markdown",
   "id": "24423828",
   "metadata": {},
   "source": [
    "#### Look at sillouhette score per number of clusters"
   ]
  },
  {
   "cell_type": "code",
   "execution_count": 6,
   "id": "f7f98736",
   "metadata": {},
   "outputs": [
    {
     "name": "stdout",
     "output_type": "stream",
     "text": [
      "For n_clusters: 2, average silhouette score: 0.720\n",
      "For n_clusters: 3, average silhouette score: 0.249\n",
      "For n_clusters: 4, average silhouette score: 0.192\n",
      "For n_clusters: 5, average silhouette score: 0.146\n",
      "For n_clusters: 6, average silhouette score: 0.209\n",
      "For n_clusters: 7, average silhouette score: 0.123\n",
      "For n_clusters: 8, average silhouette score: 0.102\n",
      "For n_clusters: 9, average silhouette score: 0.120\n",
      "For n_clusters: 10, average silhouette score: 0.084\n"
     ]
    }
   ],
   "source": [
    "kmax = 10\n",
    "\n",
    "for k in range(2, kmax+1):\n",
    "    model = KMeans(init='k-means++', n_clusters=k, random_state=42).fit(clusters_df)\n",
    "    cluster_labels = model.labels_\n",
    "        \n",
    "    silhouette_avg = silhouette_score(clusters_df, cluster_labels)\n",
    "    \n",
    "    print(f\"For n_clusters: {k}, average silhouette score: {silhouette_avg:.3f}\")"
   ]
  },
  {
   "cell_type": "code",
   "execution_count": 7,
   "id": "17fcab6b",
   "metadata": {},
   "outputs": [],
   "source": [
    "# Function to sort values in descending order\n",
    "def return_most_common_venues(row, num_top_venues):\n",
    "    row_categories = row.iloc[1:]\n",
    "    row_categories_sorted = row_categories.sort_values(ascending=False)\n",
    "    \n",
    "    return row_categories_sorted.index.values[0:num_top_venues]"
   ]
  },
  {
   "cell_type": "code",
   "execution_count": 8,
   "id": "0fc04128",
   "metadata": {},
   "outputs": [
    {
     "data": {
      "text/plain": [
       "KMeans(n_clusters=3, random_state=42)"
      ]
     },
     "execution_count": 8,
     "metadata": {},
     "output_type": "execute_result"
    }
   ],
   "source": [
    "# Run and fit the k-means clustering model\n",
    "model = KMeans(init='k-means++', n_clusters=3, random_state=42)\n",
    "model.fit(clusters_df)"
   ]
  },
  {
   "cell_type": "code",
   "execution_count": 9,
   "id": "827cb7f1",
   "metadata": {},
   "outputs": [
    {
     "data": {
      "text/html": [
       "<div>\n",
       "<style scoped>\n",
       "    .dataframe tbody tr th:only-of-type {\n",
       "        vertical-align: middle;\n",
       "    }\n",
       "\n",
       "    .dataframe tbody tr th {\n",
       "        vertical-align: top;\n",
       "    }\n",
       "\n",
       "    .dataframe thead th {\n",
       "        text-align: right;\n",
       "    }\n",
       "</style>\n",
       "<table border=\"1\" class=\"dataframe\">\n",
       "  <thead>\n",
       "    <tr style=\"text-align: right;\">\n",
       "      <th></th>\n",
       "      <th>Label Count</th>\n",
       "    </tr>\n",
       "  </thead>\n",
       "  <tbody>\n",
       "    <tr>\n",
       "      <th>0</th>\n",
       "      <td>68</td>\n",
       "    </tr>\n",
       "    <tr>\n",
       "      <th>1</th>\n",
       "      <td>27</td>\n",
       "    </tr>\n",
       "    <tr>\n",
       "      <th>2</th>\n",
       "      <td>1</td>\n",
       "    </tr>\n",
       "  </tbody>\n",
       "</table>\n",
       "</div>"
      ],
      "text/plain": [
       "   Label Count\n",
       "0           68\n",
       "1           27\n",
       "2            1"
      ]
     },
     "execution_count": 9,
     "metadata": {},
     "output_type": "execute_result"
    }
   ],
   "source": [
    "# Check the neighborhood distrobution\n",
    "pd.DataFrame(data=pd.Series(data=model.labels_).value_counts(), columns=['Label Count'])"
   ]
  },
  {
   "cell_type": "code",
   "execution_count": 10,
   "id": "db44eac5",
   "metadata": {},
   "outputs": [],
   "source": [
    "clusters_df.insert(0, 'cluster_label', model.labels_)"
   ]
  },
  {
   "cell_type": "code",
   "execution_count": 11,
   "id": "77702a85",
   "metadata": {},
   "outputs": [
    {
     "data": {
      "text/html": [
       "<div>\n",
       "<style scoped>\n",
       "    .dataframe tbody tr th:only-of-type {\n",
       "        vertical-align: middle;\n",
       "    }\n",
       "\n",
       "    .dataframe tbody tr th {\n",
       "        vertical-align: top;\n",
       "    }\n",
       "\n",
       "    .dataframe thead th {\n",
       "        text-align: right;\n",
       "    }\n",
       "</style>\n",
       "<table border=\"1\" class=\"dataframe\">\n",
       "  <thead>\n",
       "    <tr style=\"text-align: right;\">\n",
       "      <th></th>\n",
       "      <th>cluster_label</th>\n",
       "      <th>American Restaurant</th>\n",
       "      <th>Asian Restaurant</th>\n",
       "      <th>BBQ Joint</th>\n",
       "      <th>Bagel Shop</th>\n",
       "      <th>Bakery</th>\n",
       "      <th>Bistro</th>\n",
       "      <th>Breakfast Spot</th>\n",
       "      <th>Buffet</th>\n",
       "      <th>Burger Joint</th>\n",
       "      <th>...</th>\n",
       "      <th>Sushi Restaurant</th>\n",
       "      <th>Taco Place</th>\n",
       "      <th>Taiwanese Restaurant</th>\n",
       "      <th>Tapas Restaurant</th>\n",
       "      <th>Tex-Mex Restaurant</th>\n",
       "      <th>Thai Restaurant</th>\n",
       "      <th>Turkish Restaurant</th>\n",
       "      <th>Vegetarian / Vegan Restaurant</th>\n",
       "      <th>Vietnamese Restaurant</th>\n",
       "      <th>Wings Joint</th>\n",
       "    </tr>\n",
       "    <tr>\n",
       "      <th>neighborhood</th>\n",
       "      <th></th>\n",
       "      <th></th>\n",
       "      <th></th>\n",
       "      <th></th>\n",
       "      <th></th>\n",
       "      <th></th>\n",
       "      <th></th>\n",
       "      <th></th>\n",
       "      <th></th>\n",
       "      <th></th>\n",
       "      <th></th>\n",
       "      <th></th>\n",
       "      <th></th>\n",
       "      <th></th>\n",
       "      <th></th>\n",
       "      <th></th>\n",
       "      <th></th>\n",
       "      <th></th>\n",
       "      <th></th>\n",
       "      <th></th>\n",
       "      <th></th>\n",
       "    </tr>\n",
       "  </thead>\n",
       "  <tbody>\n",
       "    <tr>\n",
       "      <th>ALLANDALE</th>\n",
       "      <td>0</td>\n",
       "      <td>2</td>\n",
       "      <td>2</td>\n",
       "      <td>0</td>\n",
       "      <td>0</td>\n",
       "      <td>1</td>\n",
       "      <td>0</td>\n",
       "      <td>0</td>\n",
       "      <td>0</td>\n",
       "      <td>3</td>\n",
       "      <td>...</td>\n",
       "      <td>0</td>\n",
       "      <td>1</td>\n",
       "      <td>0</td>\n",
       "      <td>0</td>\n",
       "      <td>0</td>\n",
       "      <td>1</td>\n",
       "      <td>0</td>\n",
       "      <td>0</td>\n",
       "      <td>1</td>\n",
       "      <td>0</td>\n",
       "    </tr>\n",
       "    <tr>\n",
       "      <th>ANDERSON MILL</th>\n",
       "      <td>1</td>\n",
       "      <td>1</td>\n",
       "      <td>0</td>\n",
       "      <td>1</td>\n",
       "      <td>1</td>\n",
       "      <td>0</td>\n",
       "      <td>0</td>\n",
       "      <td>1</td>\n",
       "      <td>0</td>\n",
       "      <td>3</td>\n",
       "      <td>...</td>\n",
       "      <td>1</td>\n",
       "      <td>3</td>\n",
       "      <td>0</td>\n",
       "      <td>0</td>\n",
       "      <td>0</td>\n",
       "      <td>0</td>\n",
       "      <td>0</td>\n",
       "      <td>0</td>\n",
       "      <td>0</td>\n",
       "      <td>0</td>\n",
       "    </tr>\n",
       "    <tr>\n",
       "      <th>AVERY RANCH--LAKELINE</th>\n",
       "      <td>1</td>\n",
       "      <td>2</td>\n",
       "      <td>1</td>\n",
       "      <td>1</td>\n",
       "      <td>0</td>\n",
       "      <td>0</td>\n",
       "      <td>0</td>\n",
       "      <td>1</td>\n",
       "      <td>0</td>\n",
       "      <td>1</td>\n",
       "      <td>...</td>\n",
       "      <td>0</td>\n",
       "      <td>1</td>\n",
       "      <td>0</td>\n",
       "      <td>0</td>\n",
       "      <td>1</td>\n",
       "      <td>0</td>\n",
       "      <td>0</td>\n",
       "      <td>0</td>\n",
       "      <td>0</td>\n",
       "      <td>1</td>\n",
       "    </tr>\n",
       "    <tr>\n",
       "      <th>BARTON CREEK MALL</th>\n",
       "      <td>1</td>\n",
       "      <td>1</td>\n",
       "      <td>1</td>\n",
       "      <td>1</td>\n",
       "      <td>1</td>\n",
       "      <td>2</td>\n",
       "      <td>0</td>\n",
       "      <td>0</td>\n",
       "      <td>0</td>\n",
       "      <td>0</td>\n",
       "      <td>...</td>\n",
       "      <td>1</td>\n",
       "      <td>0</td>\n",
       "      <td>0</td>\n",
       "      <td>0</td>\n",
       "      <td>1</td>\n",
       "      <td>0</td>\n",
       "      <td>0</td>\n",
       "      <td>0</td>\n",
       "      <td>0</td>\n",
       "      <td>0</td>\n",
       "    </tr>\n",
       "    <tr>\n",
       "      <th>BARTON HILLS</th>\n",
       "      <td>0</td>\n",
       "      <td>1</td>\n",
       "      <td>1</td>\n",
       "      <td>1</td>\n",
       "      <td>0</td>\n",
       "      <td>0</td>\n",
       "      <td>0</td>\n",
       "      <td>1</td>\n",
       "      <td>0</td>\n",
       "      <td>1</td>\n",
       "      <td>...</td>\n",
       "      <td>0</td>\n",
       "      <td>1</td>\n",
       "      <td>0</td>\n",
       "      <td>0</td>\n",
       "      <td>0</td>\n",
       "      <td>0</td>\n",
       "      <td>0</td>\n",
       "      <td>0</td>\n",
       "      <td>0</td>\n",
       "      <td>0</td>\n",
       "    </tr>\n",
       "  </tbody>\n",
       "</table>\n",
       "<p>5 rows × 78 columns</p>\n",
       "</div>"
      ],
      "text/plain": [
       "                       cluster_label  American Restaurant  Asian Restaurant  \\\n",
       "neighborhood                                                                  \n",
       "ALLANDALE                          0                    2                 2   \n",
       "ANDERSON MILL                      1                    1                 0   \n",
       "AVERY RANCH--LAKELINE              1                    2                 1   \n",
       "BARTON CREEK MALL                  1                    1                 1   \n",
       "BARTON HILLS                       0                    1                 1   \n",
       "\n",
       "                       BBQ Joint  Bagel Shop  Bakery  Bistro  Breakfast Spot  \\\n",
       "neighborhood                                                                   \n",
       "ALLANDALE                      0           0       1       0               0   \n",
       "ANDERSON MILL                  1           1       0       0               1   \n",
       "AVERY RANCH--LAKELINE          1           0       0       0               1   \n",
       "BARTON CREEK MALL              1           1       2       0               0   \n",
       "BARTON HILLS                   1           0       0       0               1   \n",
       "\n",
       "                       Buffet  Burger Joint  ...  Sushi Restaurant  \\\n",
       "neighborhood                                 ...                     \n",
       "ALLANDALE                   0             3  ...                 0   \n",
       "ANDERSON MILL               0             3  ...                 1   \n",
       "AVERY RANCH--LAKELINE       0             1  ...                 0   \n",
       "BARTON CREEK MALL           0             0  ...                 1   \n",
       "BARTON HILLS                0             1  ...                 0   \n",
       "\n",
       "                       Taco Place  Taiwanese Restaurant  Tapas Restaurant  \\\n",
       "neighborhood                                                                \n",
       "ALLANDALE                       1                     0                 0   \n",
       "ANDERSON MILL                   3                     0                 0   \n",
       "AVERY RANCH--LAKELINE           1                     0                 0   \n",
       "BARTON CREEK MALL               0                     0                 0   \n",
       "BARTON HILLS                    1                     0                 0   \n",
       "\n",
       "                       Tex-Mex Restaurant  Thai Restaurant  \\\n",
       "neighborhood                                                 \n",
       "ALLANDALE                               0                1   \n",
       "ANDERSON MILL                           0                0   \n",
       "AVERY RANCH--LAKELINE                   1                0   \n",
       "BARTON CREEK MALL                       1                0   \n",
       "BARTON HILLS                            0                0   \n",
       "\n",
       "                       Turkish Restaurant  Vegetarian / Vegan Restaurant  \\\n",
       "neighborhood                                                               \n",
       "ALLANDALE                               0                              0   \n",
       "ANDERSON MILL                           0                              0   \n",
       "AVERY RANCH--LAKELINE                   0                              0   \n",
       "BARTON CREEK MALL                       0                              0   \n",
       "BARTON HILLS                            0                              0   \n",
       "\n",
       "                       Vietnamese Restaurant  Wings Joint  \n",
       "neighborhood                                               \n",
       "ALLANDALE                                  1            0  \n",
       "ANDERSON MILL                              0            0  \n",
       "AVERY RANCH--LAKELINE                      0            1  \n",
       "BARTON CREEK MALL                          0            0  \n",
       "BARTON HILLS                               0            0  \n",
       "\n",
       "[5 rows x 78 columns]"
      ]
     },
     "execution_count": 11,
     "metadata": {},
     "output_type": "execute_result"
    }
   ],
   "source": [
    "clusters_df.head()"
   ]
  },
  {
   "cell_type": "code",
   "execution_count": 20,
   "id": "c29f8a53",
   "metadata": {},
   "outputs": [
    {
     "data": {
      "application/vnd.plotly.v1+json": {
       "config": {
        "plotlyServerURL": "https://plot.ly"
       },
       "data": [
        {
         "dimensions": [
          {
           "label": "Sepal Length",
           "values": [
            5.1,
            4.9,
            4.7,
            4.6,
            5,
            5.4,
            4.6,
            5,
            4.4,
            4.9,
            5.4,
            4.8,
            4.8,
            4.3,
            5.8,
            5.7,
            5.4,
            5.1,
            5.7,
            5.1,
            5.4,
            5.1,
            4.6,
            5.1,
            4.8,
            5,
            5,
            5.2,
            5.2,
            4.7,
            4.8,
            5.4,
            5.2,
            5.5,
            4.9,
            5,
            5.5,
            4.9,
            4.4,
            5.1,
            5,
            4.5,
            4.4,
            5,
            5.1,
            4.8,
            5.1,
            4.6,
            5.3,
            5,
            7,
            6.4,
            6.9,
            5.5,
            6.5,
            5.7,
            6.3,
            4.9,
            6.6,
            5.2,
            5,
            5.9,
            6,
            6.1,
            5.6,
            6.7,
            5.6,
            5.8,
            6.2,
            5.6,
            5.9,
            6.1,
            6.3,
            6.1,
            6.4,
            6.6,
            6.8,
            6.7,
            6,
            5.7,
            5.5,
            5.5,
            5.8,
            6,
            5.4,
            6,
            6.7,
            6.3,
            5.6,
            5.5,
            5.5,
            6.1,
            5.8,
            5,
            5.6,
            5.7,
            5.7,
            6.2,
            5.1,
            5.7,
            6.3,
            5.8,
            7.1,
            6.3,
            6.5,
            7.6,
            4.9,
            7.3,
            6.7,
            7.2,
            6.5,
            6.4,
            6.8,
            5.7,
            5.8,
            6.4,
            6.5,
            7.7,
            7.7,
            6,
            6.9,
            5.6,
            7.7,
            6.3,
            6.7,
            7.2,
            6.2,
            6.1,
            6.4,
            7.2,
            7.4,
            7.9,
            6.4,
            6.3,
            6.1,
            7.7,
            6.3,
            6.4,
            6,
            6.9,
            6.7,
            6.9,
            5.8,
            6.8,
            6.7,
            6.7,
            6.3,
            6.5,
            6.2,
            5.9
           ]
          },
          {
           "label": "Sepal Width",
           "values": [
            3.5,
            3,
            3.2,
            3.1,
            3.6,
            3.9,
            3.4,
            3.4,
            2.9,
            3.1,
            3.7,
            3.4,
            3,
            3,
            4,
            4.4,
            3.9,
            3.5,
            3.8,
            3.8,
            3.4,
            3.7,
            3.6,
            3.3,
            3.4,
            3,
            3.4,
            3.5,
            3.4,
            3.2,
            3.1,
            3.4,
            4.1,
            4.2,
            3.1,
            3.2,
            3.5,
            3.1,
            3,
            3.4,
            3.5,
            2.3,
            3.2,
            3.5,
            3.8,
            3,
            3.8,
            3.2,
            3.7,
            3.3,
            3.2,
            3.2,
            3.1,
            2.3,
            2.8,
            2.8,
            3.3,
            2.4,
            2.9,
            2.7,
            2,
            3,
            2.2,
            2.9,
            2.9,
            3.1,
            3,
            2.7,
            2.2,
            2.5,
            3.2,
            2.8,
            2.5,
            2.8,
            2.9,
            3,
            2.8,
            3,
            2.9,
            2.6,
            2.4,
            2.4,
            2.7,
            2.7,
            3,
            3.4,
            3.1,
            2.3,
            3,
            2.5,
            2.6,
            3,
            2.6,
            2.3,
            2.7,
            3,
            2.9,
            2.9,
            2.5,
            2.8,
            3.3,
            2.7,
            3,
            2.9,
            3,
            3,
            2.5,
            2.9,
            2.5,
            3.6,
            3.2,
            2.7,
            3,
            2.5,
            2.8,
            3.2,
            3,
            3.8,
            2.6,
            2.2,
            3.2,
            2.8,
            2.8,
            2.7,
            3.3,
            3.2,
            2.8,
            3,
            2.8,
            3,
            2.8,
            3.8,
            2.8,
            2.8,
            2.6,
            3,
            3.4,
            3.1,
            3,
            3.1,
            3.1,
            3.1,
            2.7,
            3.2,
            3.3,
            3,
            2.5,
            3,
            3.4,
            3
           ]
          },
          {
           "label": "Petal Length",
           "values": [
            1.4,
            1.4,
            1.3,
            1.5,
            1.4,
            1.7,
            1.4,
            1.5,
            1.4,
            1.5,
            1.5,
            1.6,
            1.4,
            1.1,
            1.2,
            1.5,
            1.3,
            1.4,
            1.7,
            1.5,
            1.7,
            1.5,
            1,
            1.7,
            1.9,
            1.6,
            1.6,
            1.5,
            1.4,
            1.6,
            1.6,
            1.5,
            1.5,
            1.4,
            1.5,
            1.2,
            1.3,
            1.5,
            1.3,
            1.5,
            1.3,
            1.3,
            1.3,
            1.6,
            1.9,
            1.4,
            1.6,
            1.4,
            1.5,
            1.4,
            4.7,
            4.5,
            4.9,
            4,
            4.6,
            4.5,
            4.7,
            3.3,
            4.6,
            3.9,
            3.5,
            4.2,
            4,
            4.7,
            3.6,
            4.4,
            4.5,
            4.1,
            4.5,
            3.9,
            4.8,
            4,
            4.9,
            4.7,
            4.3,
            4.4,
            4.8,
            5,
            4.5,
            3.5,
            3.8,
            3.7,
            3.9,
            5.1,
            4.5,
            4.5,
            4.7,
            4.4,
            4.1,
            4,
            4.4,
            4.6,
            4,
            3.3,
            4.2,
            4.2,
            4.2,
            4.3,
            3,
            4.1,
            6,
            5.1,
            5.9,
            5.6,
            5.8,
            6.6,
            4.5,
            6.3,
            5.8,
            6.1,
            5.1,
            5.3,
            5.5,
            5,
            5.1,
            5.3,
            5.5,
            6.7,
            6.9,
            5,
            5.7,
            4.9,
            6.7,
            4.9,
            5.7,
            6,
            4.8,
            4.9,
            5.6,
            5.8,
            6.1,
            6.4,
            5.6,
            5.1,
            5.6,
            6.1,
            5.6,
            5.5,
            4.8,
            5.4,
            5.6,
            5.1,
            5.1,
            5.9,
            5.7,
            5.2,
            5,
            5.2,
            5.4,
            5.1
           ]
          },
          {
           "label": "Petal Width",
           "values": [
            0.2,
            0.2,
            0.2,
            0.2,
            0.2,
            0.4,
            0.3,
            0.2,
            0.2,
            0.1,
            0.2,
            0.2,
            0.1,
            0.1,
            0.2,
            0.4,
            0.4,
            0.3,
            0.3,
            0.3,
            0.2,
            0.4,
            0.2,
            0.5,
            0.2,
            0.2,
            0.4,
            0.2,
            0.2,
            0.2,
            0.2,
            0.4,
            0.1,
            0.2,
            0.1,
            0.2,
            0.2,
            0.1,
            0.2,
            0.2,
            0.3,
            0.3,
            0.2,
            0.6,
            0.4,
            0.3,
            0.2,
            0.2,
            0.2,
            0.2,
            1.4,
            1.5,
            1.5,
            1.3,
            1.5,
            1.3,
            1.6,
            1,
            1.3,
            1.4,
            1,
            1.5,
            1,
            1.4,
            1.3,
            1.4,
            1.5,
            1,
            1.5,
            1.1,
            1.8,
            1.3,
            1.5,
            1.2,
            1.3,
            1.4,
            1.4,
            1.7,
            1.5,
            1,
            1.1,
            1,
            1.2,
            1.6,
            1.5,
            1.6,
            1.5,
            1.3,
            1.3,
            1.3,
            1.2,
            1.4,
            1.2,
            1,
            1.3,
            1.2,
            1.3,
            1.3,
            1.1,
            1.3,
            2.5,
            1.9,
            2.1,
            1.8,
            2.2,
            2.1,
            1.7,
            1.8,
            1.8,
            2.5,
            2,
            1.9,
            2.1,
            2,
            2.4,
            2.3,
            1.8,
            2.2,
            2.3,
            1.5,
            2.3,
            2,
            2,
            1.8,
            2.1,
            1.8,
            1.8,
            1.8,
            2.1,
            1.6,
            1.9,
            2,
            2.2,
            1.5,
            1.4,
            2.3,
            2.4,
            1.8,
            1.8,
            2.1,
            2.4,
            2.3,
            1.9,
            2.3,
            2.5,
            2.3,
            1.9,
            2,
            2.3,
            1.8
           ]
          },
          {
           "label": "Species",
           "values": [
            1,
            1,
            1,
            1,
            1,
            1,
            1,
            1,
            1,
            1,
            1,
            1,
            1,
            1,
            1,
            1,
            1,
            1,
            1,
            1,
            1,
            1,
            1,
            1,
            1,
            1,
            1,
            1,
            1,
            1,
            1,
            1,
            1,
            1,
            1,
            1,
            1,
            1,
            1,
            1,
            1,
            1,
            1,
            1,
            1,
            1,
            1,
            1,
            1,
            1,
            2,
            2,
            2,
            2,
            2,
            2,
            2,
            2,
            2,
            2,
            2,
            2,
            2,
            2,
            2,
            2,
            2,
            2,
            2,
            2,
            2,
            2,
            2,
            2,
            2,
            2,
            2,
            2,
            2,
            2,
            2,
            2,
            2,
            2,
            2,
            2,
            2,
            2,
            2,
            2,
            2,
            2,
            2,
            2,
            2,
            2,
            2,
            2,
            2,
            2,
            3,
            3,
            3,
            3,
            3,
            3,
            3,
            3,
            3,
            3,
            3,
            3,
            3,
            3,
            3,
            3,
            3,
            3,
            3,
            3,
            3,
            3,
            3,
            3,
            3,
            3,
            3,
            3,
            3,
            3,
            3,
            3,
            3,
            3,
            3,
            3,
            3,
            3,
            3,
            3,
            3,
            3,
            3,
            3,
            3,
            3,
            3,
            3,
            3,
            3
           ]
          }
         ],
         "domain": {
          "x": [
           0,
           1
          ],
          "y": [
           0,
           1
          ]
         },
         "line": {
          "color": [
           1,
           1,
           1,
           1,
           1,
           1,
           1,
           1,
           1,
           1,
           1,
           1,
           1,
           1,
           1,
           1,
           1,
           1,
           1,
           1,
           1,
           1,
           1,
           1,
           1,
           1,
           1,
           1,
           1,
           1,
           1,
           1,
           1,
           1,
           1,
           1,
           1,
           1,
           1,
           1,
           1,
           1,
           1,
           1,
           1,
           1,
           1,
           1,
           1,
           1,
           2,
           2,
           2,
           2,
           2,
           2,
           2,
           2,
           2,
           2,
           2,
           2,
           2,
           2,
           2,
           2,
           2,
           2,
           2,
           2,
           2,
           2,
           2,
           2,
           2,
           2,
           2,
           2,
           2,
           2,
           2,
           2,
           2,
           2,
           2,
           2,
           2,
           2,
           2,
           2,
           2,
           2,
           2,
           2,
           2,
           2,
           2,
           2,
           2,
           2,
           3,
           3,
           3,
           3,
           3,
           3,
           3,
           3,
           3,
           3,
           3,
           3,
           3,
           3,
           3,
           3,
           3,
           3,
           3,
           3,
           3,
           3,
           3,
           3,
           3,
           3,
           3,
           3,
           3,
           3,
           3,
           3,
           3,
           3,
           3,
           3,
           3,
           3,
           3,
           3,
           3,
           3,
           3,
           3,
           3,
           3,
           3,
           3,
           3,
           3
          ],
          "coloraxis": "coloraxis"
         },
         "name": "",
         "type": "parcoords"
        }
       ],
       "layout": {
        "coloraxis": {
         "cmid": 2,
         "colorbar": {
          "title": {
           "text": "Species"
          }
         },
         "colorscale": [
          [
           0,
           "rgb(0, 147, 146)"
          ],
          [
           0.16666666666666666,
           "rgb(114, 170, 161)"
          ],
          [
           0.3333333333333333,
           "rgb(177, 199, 179)"
          ],
          [
           0.5,
           "rgb(241, 234, 200)"
          ],
          [
           0.6666666666666666,
           "rgb(229, 185, 173)"
          ],
          [
           0.8333333333333334,
           "rgb(217, 137, 148)"
          ],
          [
           1,
           "rgb(208, 88, 126)"
          ]
         ]
        },
        "legend": {
         "tracegroupgap": 0
        },
        "margin": {
         "t": 60
        },
        "template": {
         "data": {
          "bar": [
           {
            "error_x": {
             "color": "#2a3f5f"
            },
            "error_y": {
             "color": "#2a3f5f"
            },
            "marker": {
             "line": {
              "color": "#E5ECF6",
              "width": 0.5
             }
            },
            "type": "bar"
           }
          ],
          "barpolar": [
           {
            "marker": {
             "line": {
              "color": "#E5ECF6",
              "width": 0.5
             }
            },
            "type": "barpolar"
           }
          ],
          "carpet": [
           {
            "aaxis": {
             "endlinecolor": "#2a3f5f",
             "gridcolor": "white",
             "linecolor": "white",
             "minorgridcolor": "white",
             "startlinecolor": "#2a3f5f"
            },
            "baxis": {
             "endlinecolor": "#2a3f5f",
             "gridcolor": "white",
             "linecolor": "white",
             "minorgridcolor": "white",
             "startlinecolor": "#2a3f5f"
            },
            "type": "carpet"
           }
          ],
          "choropleth": [
           {
            "colorbar": {
             "outlinewidth": 0,
             "ticks": ""
            },
            "type": "choropleth"
           }
          ],
          "contour": [
           {
            "colorbar": {
             "outlinewidth": 0,
             "ticks": ""
            },
            "colorscale": [
             [
              0,
              "#0d0887"
             ],
             [
              0.1111111111111111,
              "#46039f"
             ],
             [
              0.2222222222222222,
              "#7201a8"
             ],
             [
              0.3333333333333333,
              "#9c179e"
             ],
             [
              0.4444444444444444,
              "#bd3786"
             ],
             [
              0.5555555555555556,
              "#d8576b"
             ],
             [
              0.6666666666666666,
              "#ed7953"
             ],
             [
              0.7777777777777778,
              "#fb9f3a"
             ],
             [
              0.8888888888888888,
              "#fdca26"
             ],
             [
              1,
              "#f0f921"
             ]
            ],
            "type": "contour"
           }
          ],
          "contourcarpet": [
           {
            "colorbar": {
             "outlinewidth": 0,
             "ticks": ""
            },
            "type": "contourcarpet"
           }
          ],
          "heatmap": [
           {
            "colorbar": {
             "outlinewidth": 0,
             "ticks": ""
            },
            "colorscale": [
             [
              0,
              "#0d0887"
             ],
             [
              0.1111111111111111,
              "#46039f"
             ],
             [
              0.2222222222222222,
              "#7201a8"
             ],
             [
              0.3333333333333333,
              "#9c179e"
             ],
             [
              0.4444444444444444,
              "#bd3786"
             ],
             [
              0.5555555555555556,
              "#d8576b"
             ],
             [
              0.6666666666666666,
              "#ed7953"
             ],
             [
              0.7777777777777778,
              "#fb9f3a"
             ],
             [
              0.8888888888888888,
              "#fdca26"
             ],
             [
              1,
              "#f0f921"
             ]
            ],
            "type": "heatmap"
           }
          ],
          "heatmapgl": [
           {
            "colorbar": {
             "outlinewidth": 0,
             "ticks": ""
            },
            "colorscale": [
             [
              0,
              "#0d0887"
             ],
             [
              0.1111111111111111,
              "#46039f"
             ],
             [
              0.2222222222222222,
              "#7201a8"
             ],
             [
              0.3333333333333333,
              "#9c179e"
             ],
             [
              0.4444444444444444,
              "#bd3786"
             ],
             [
              0.5555555555555556,
              "#d8576b"
             ],
             [
              0.6666666666666666,
              "#ed7953"
             ],
             [
              0.7777777777777778,
              "#fb9f3a"
             ],
             [
              0.8888888888888888,
              "#fdca26"
             ],
             [
              1,
              "#f0f921"
             ]
            ],
            "type": "heatmapgl"
           }
          ],
          "histogram": [
           {
            "marker": {
             "colorbar": {
              "outlinewidth": 0,
              "ticks": ""
             }
            },
            "type": "histogram"
           }
          ],
          "histogram2d": [
           {
            "colorbar": {
             "outlinewidth": 0,
             "ticks": ""
            },
            "colorscale": [
             [
              0,
              "#0d0887"
             ],
             [
              0.1111111111111111,
              "#46039f"
             ],
             [
              0.2222222222222222,
              "#7201a8"
             ],
             [
              0.3333333333333333,
              "#9c179e"
             ],
             [
              0.4444444444444444,
              "#bd3786"
             ],
             [
              0.5555555555555556,
              "#d8576b"
             ],
             [
              0.6666666666666666,
              "#ed7953"
             ],
             [
              0.7777777777777778,
              "#fb9f3a"
             ],
             [
              0.8888888888888888,
              "#fdca26"
             ],
             [
              1,
              "#f0f921"
             ]
            ],
            "type": "histogram2d"
           }
          ],
          "histogram2dcontour": [
           {
            "colorbar": {
             "outlinewidth": 0,
             "ticks": ""
            },
            "colorscale": [
             [
              0,
              "#0d0887"
             ],
             [
              0.1111111111111111,
              "#46039f"
             ],
             [
              0.2222222222222222,
              "#7201a8"
             ],
             [
              0.3333333333333333,
              "#9c179e"
             ],
             [
              0.4444444444444444,
              "#bd3786"
             ],
             [
              0.5555555555555556,
              "#d8576b"
             ],
             [
              0.6666666666666666,
              "#ed7953"
             ],
             [
              0.7777777777777778,
              "#fb9f3a"
             ],
             [
              0.8888888888888888,
              "#fdca26"
             ],
             [
              1,
              "#f0f921"
             ]
            ],
            "type": "histogram2dcontour"
           }
          ],
          "mesh3d": [
           {
            "colorbar": {
             "outlinewidth": 0,
             "ticks": ""
            },
            "type": "mesh3d"
           }
          ],
          "parcoords": [
           {
            "line": {
             "colorbar": {
              "outlinewidth": 0,
              "ticks": ""
             }
            },
            "type": "parcoords"
           }
          ],
          "pie": [
           {
            "automargin": true,
            "type": "pie"
           }
          ],
          "scatter": [
           {
            "marker": {
             "colorbar": {
              "outlinewidth": 0,
              "ticks": ""
             }
            },
            "type": "scatter"
           }
          ],
          "scatter3d": [
           {
            "line": {
             "colorbar": {
              "outlinewidth": 0,
              "ticks": ""
             }
            },
            "marker": {
             "colorbar": {
              "outlinewidth": 0,
              "ticks": ""
             }
            },
            "type": "scatter3d"
           }
          ],
          "scattercarpet": [
           {
            "marker": {
             "colorbar": {
              "outlinewidth": 0,
              "ticks": ""
             }
            },
            "type": "scattercarpet"
           }
          ],
          "scattergeo": [
           {
            "marker": {
             "colorbar": {
              "outlinewidth": 0,
              "ticks": ""
             }
            },
            "type": "scattergeo"
           }
          ],
          "scattergl": [
           {
            "marker": {
             "colorbar": {
              "outlinewidth": 0,
              "ticks": ""
             }
            },
            "type": "scattergl"
           }
          ],
          "scattermapbox": [
           {
            "marker": {
             "colorbar": {
              "outlinewidth": 0,
              "ticks": ""
             }
            },
            "type": "scattermapbox"
           }
          ],
          "scatterpolar": [
           {
            "marker": {
             "colorbar": {
              "outlinewidth": 0,
              "ticks": ""
             }
            },
            "type": "scatterpolar"
           }
          ],
          "scatterpolargl": [
           {
            "marker": {
             "colorbar": {
              "outlinewidth": 0,
              "ticks": ""
             }
            },
            "type": "scatterpolargl"
           }
          ],
          "scatterternary": [
           {
            "marker": {
             "colorbar": {
              "outlinewidth": 0,
              "ticks": ""
             }
            },
            "type": "scatterternary"
           }
          ],
          "surface": [
           {
            "colorbar": {
             "outlinewidth": 0,
             "ticks": ""
            },
            "colorscale": [
             [
              0,
              "#0d0887"
             ],
             [
              0.1111111111111111,
              "#46039f"
             ],
             [
              0.2222222222222222,
              "#7201a8"
             ],
             [
              0.3333333333333333,
              "#9c179e"
             ],
             [
              0.4444444444444444,
              "#bd3786"
             ],
             [
              0.5555555555555556,
              "#d8576b"
             ],
             [
              0.6666666666666666,
              "#ed7953"
             ],
             [
              0.7777777777777778,
              "#fb9f3a"
             ],
             [
              0.8888888888888888,
              "#fdca26"
             ],
             [
              1,
              "#f0f921"
             ]
            ],
            "type": "surface"
           }
          ],
          "table": [
           {
            "cells": {
             "fill": {
              "color": "#EBF0F8"
             },
             "line": {
              "color": "white"
             }
            },
            "header": {
             "fill": {
              "color": "#C8D4E3"
             },
             "line": {
              "color": "white"
             }
            },
            "type": "table"
           }
          ]
         },
         "layout": {
          "annotationdefaults": {
           "arrowcolor": "#2a3f5f",
           "arrowhead": 0,
           "arrowwidth": 1
          },
          "autotypenumbers": "strict",
          "coloraxis": {
           "colorbar": {
            "outlinewidth": 0,
            "ticks": ""
           }
          },
          "colorscale": {
           "diverging": [
            [
             0,
             "#8e0152"
            ],
            [
             0.1,
             "#c51b7d"
            ],
            [
             0.2,
             "#de77ae"
            ],
            [
             0.3,
             "#f1b6da"
            ],
            [
             0.4,
             "#fde0ef"
            ],
            [
             0.5,
             "#f7f7f7"
            ],
            [
             0.6,
             "#e6f5d0"
            ],
            [
             0.7,
             "#b8e186"
            ],
            [
             0.8,
             "#7fbc41"
            ],
            [
             0.9,
             "#4d9221"
            ],
            [
             1,
             "#276419"
            ]
           ],
           "sequential": [
            [
             0,
             "#0d0887"
            ],
            [
             0.1111111111111111,
             "#46039f"
            ],
            [
             0.2222222222222222,
             "#7201a8"
            ],
            [
             0.3333333333333333,
             "#9c179e"
            ],
            [
             0.4444444444444444,
             "#bd3786"
            ],
            [
             0.5555555555555556,
             "#d8576b"
            ],
            [
             0.6666666666666666,
             "#ed7953"
            ],
            [
             0.7777777777777778,
             "#fb9f3a"
            ],
            [
             0.8888888888888888,
             "#fdca26"
            ],
            [
             1,
             "#f0f921"
            ]
           ],
           "sequentialminus": [
            [
             0,
             "#0d0887"
            ],
            [
             0.1111111111111111,
             "#46039f"
            ],
            [
             0.2222222222222222,
             "#7201a8"
            ],
            [
             0.3333333333333333,
             "#9c179e"
            ],
            [
             0.4444444444444444,
             "#bd3786"
            ],
            [
             0.5555555555555556,
             "#d8576b"
            ],
            [
             0.6666666666666666,
             "#ed7953"
            ],
            [
             0.7777777777777778,
             "#fb9f3a"
            ],
            [
             0.8888888888888888,
             "#fdca26"
            ],
            [
             1,
             "#f0f921"
            ]
           ]
          },
          "colorway": [
           "#636efa",
           "#EF553B",
           "#00cc96",
           "#ab63fa",
           "#FFA15A",
           "#19d3f3",
           "#FF6692",
           "#B6E880",
           "#FF97FF",
           "#FECB52"
          ],
          "font": {
           "color": "#2a3f5f"
          },
          "geo": {
           "bgcolor": "white",
           "lakecolor": "white",
           "landcolor": "#E5ECF6",
           "showlakes": true,
           "showland": true,
           "subunitcolor": "white"
          },
          "hoverlabel": {
           "align": "left"
          },
          "hovermode": "closest",
          "mapbox": {
           "style": "light"
          },
          "paper_bgcolor": "white",
          "plot_bgcolor": "#E5ECF6",
          "polar": {
           "angularaxis": {
            "gridcolor": "white",
            "linecolor": "white",
            "ticks": ""
           },
           "bgcolor": "#E5ECF6",
           "radialaxis": {
            "gridcolor": "white",
            "linecolor": "white",
            "ticks": ""
           }
          },
          "scene": {
           "xaxis": {
            "backgroundcolor": "#E5ECF6",
            "gridcolor": "white",
            "gridwidth": 2,
            "linecolor": "white",
            "showbackground": true,
            "ticks": "",
            "zerolinecolor": "white"
           },
           "yaxis": {
            "backgroundcolor": "#E5ECF6",
            "gridcolor": "white",
            "gridwidth": 2,
            "linecolor": "white",
            "showbackground": true,
            "ticks": "",
            "zerolinecolor": "white"
           },
           "zaxis": {
            "backgroundcolor": "#E5ECF6",
            "gridcolor": "white",
            "gridwidth": 2,
            "linecolor": "white",
            "showbackground": true,
            "ticks": "",
            "zerolinecolor": "white"
           }
          },
          "shapedefaults": {
           "line": {
            "color": "#2a3f5f"
           }
          },
          "ternary": {
           "aaxis": {
            "gridcolor": "white",
            "linecolor": "white",
            "ticks": ""
           },
           "baxis": {
            "gridcolor": "white",
            "linecolor": "white",
            "ticks": ""
           },
           "bgcolor": "#E5ECF6",
           "caxis": {
            "gridcolor": "white",
            "linecolor": "white",
            "ticks": ""
           }
          },
          "title": {
           "x": 0.05
          },
          "xaxis": {
           "automargin": true,
           "gridcolor": "white",
           "linecolor": "white",
           "ticks": "",
           "title": {
            "standoff": 15
           },
           "zerolinecolor": "white",
           "zerolinewidth": 2
          },
          "yaxis": {
           "automargin": true,
           "gridcolor": "white",
           "linecolor": "white",
           "ticks": "",
           "title": {
            "standoff": 15
           },
           "zerolinecolor": "white",
           "zerolinewidth": 2
          }
         }
        }
       }
      },
      "text/html": [
       "<div>                            <div id=\"399d7ee9-79b7-4b48-90a9-97cf60315433\" class=\"plotly-graph-div\" style=\"height:525px; width:100%;\"></div>            <script type=\"text/javascript\">                require([\"plotly\"], function(Plotly) {                    window.PLOTLYENV=window.PLOTLYENV || {};                                    if (document.getElementById(\"399d7ee9-79b7-4b48-90a9-97cf60315433\")) {                    Plotly.newPlot(                        \"399d7ee9-79b7-4b48-90a9-97cf60315433\",                        [{\"dimensions\": [{\"label\": \"Sepal Length\", \"values\": [5.1, 4.9, 4.7, 4.6, 5.0, 5.4, 4.6, 5.0, 4.4, 4.9, 5.4, 4.8, 4.8, 4.3, 5.8, 5.7, 5.4, 5.1, 5.7, 5.1, 5.4, 5.1, 4.6, 5.1, 4.8, 5.0, 5.0, 5.2, 5.2, 4.7, 4.8, 5.4, 5.2, 5.5, 4.9, 5.0, 5.5, 4.9, 4.4, 5.1, 5.0, 4.5, 4.4, 5.0, 5.1, 4.8, 5.1, 4.6, 5.3, 5.0, 7.0, 6.4, 6.9, 5.5, 6.5, 5.7, 6.3, 4.9, 6.6, 5.2, 5.0, 5.9, 6.0, 6.1, 5.6, 6.7, 5.6, 5.8, 6.2, 5.6, 5.9, 6.1, 6.3, 6.1, 6.4, 6.6, 6.8, 6.7, 6.0, 5.7, 5.5, 5.5, 5.8, 6.0, 5.4, 6.0, 6.7, 6.3, 5.6, 5.5, 5.5, 6.1, 5.8, 5.0, 5.6, 5.7, 5.7, 6.2, 5.1, 5.7, 6.3, 5.8, 7.1, 6.3, 6.5, 7.6, 4.9, 7.3, 6.7, 7.2, 6.5, 6.4, 6.8, 5.7, 5.8, 6.4, 6.5, 7.7, 7.7, 6.0, 6.9, 5.6, 7.7, 6.3, 6.7, 7.2, 6.2, 6.1, 6.4, 7.2, 7.4, 7.9, 6.4, 6.3, 6.1, 7.7, 6.3, 6.4, 6.0, 6.9, 6.7, 6.9, 5.8, 6.8, 6.7, 6.7, 6.3, 6.5, 6.2, 5.9]}, {\"label\": \"Sepal Width\", \"values\": [3.5, 3.0, 3.2, 3.1, 3.6, 3.9, 3.4, 3.4, 2.9, 3.1, 3.7, 3.4, 3.0, 3.0, 4.0, 4.4, 3.9, 3.5, 3.8, 3.8, 3.4, 3.7, 3.6, 3.3, 3.4, 3.0, 3.4, 3.5, 3.4, 3.2, 3.1, 3.4, 4.1, 4.2, 3.1, 3.2, 3.5, 3.1, 3.0, 3.4, 3.5, 2.3, 3.2, 3.5, 3.8, 3.0, 3.8, 3.2, 3.7, 3.3, 3.2, 3.2, 3.1, 2.3, 2.8, 2.8, 3.3, 2.4, 2.9, 2.7, 2.0, 3.0, 2.2, 2.9, 2.9, 3.1, 3.0, 2.7, 2.2, 2.5, 3.2, 2.8, 2.5, 2.8, 2.9, 3.0, 2.8, 3.0, 2.9, 2.6, 2.4, 2.4, 2.7, 2.7, 3.0, 3.4, 3.1, 2.3, 3.0, 2.5, 2.6, 3.0, 2.6, 2.3, 2.7, 3.0, 2.9, 2.9, 2.5, 2.8, 3.3, 2.7, 3.0, 2.9, 3.0, 3.0, 2.5, 2.9, 2.5, 3.6, 3.2, 2.7, 3.0, 2.5, 2.8, 3.2, 3.0, 3.8, 2.6, 2.2, 3.2, 2.8, 2.8, 2.7, 3.3, 3.2, 2.8, 3.0, 2.8, 3.0, 2.8, 3.8, 2.8, 2.8, 2.6, 3.0, 3.4, 3.1, 3.0, 3.1, 3.1, 3.1, 2.7, 3.2, 3.3, 3.0, 2.5, 3.0, 3.4, 3.0]}, {\"label\": \"Petal Length\", \"values\": [1.4, 1.4, 1.3, 1.5, 1.4, 1.7, 1.4, 1.5, 1.4, 1.5, 1.5, 1.6, 1.4, 1.1, 1.2, 1.5, 1.3, 1.4, 1.7, 1.5, 1.7, 1.5, 1.0, 1.7, 1.9, 1.6, 1.6, 1.5, 1.4, 1.6, 1.6, 1.5, 1.5, 1.4, 1.5, 1.2, 1.3, 1.5, 1.3, 1.5, 1.3, 1.3, 1.3, 1.6, 1.9, 1.4, 1.6, 1.4, 1.5, 1.4, 4.7, 4.5, 4.9, 4.0, 4.6, 4.5, 4.7, 3.3, 4.6, 3.9, 3.5, 4.2, 4.0, 4.7, 3.6, 4.4, 4.5, 4.1, 4.5, 3.9, 4.8, 4.0, 4.9, 4.7, 4.3, 4.4, 4.8, 5.0, 4.5, 3.5, 3.8, 3.7, 3.9, 5.1, 4.5, 4.5, 4.7, 4.4, 4.1, 4.0, 4.4, 4.6, 4.0, 3.3, 4.2, 4.2, 4.2, 4.3, 3.0, 4.1, 6.0, 5.1, 5.9, 5.6, 5.8, 6.6, 4.5, 6.3, 5.8, 6.1, 5.1, 5.3, 5.5, 5.0, 5.1, 5.3, 5.5, 6.7, 6.9, 5.0, 5.7, 4.9, 6.7, 4.9, 5.7, 6.0, 4.8, 4.9, 5.6, 5.8, 6.1, 6.4, 5.6, 5.1, 5.6, 6.1, 5.6, 5.5, 4.8, 5.4, 5.6, 5.1, 5.1, 5.9, 5.7, 5.2, 5.0, 5.2, 5.4, 5.1]}, {\"label\": \"Petal Width\", \"values\": [0.2, 0.2, 0.2, 0.2, 0.2, 0.4, 0.3, 0.2, 0.2, 0.1, 0.2, 0.2, 0.1, 0.1, 0.2, 0.4, 0.4, 0.3, 0.3, 0.3, 0.2, 0.4, 0.2, 0.5, 0.2, 0.2, 0.4, 0.2, 0.2, 0.2, 0.2, 0.4, 0.1, 0.2, 0.1, 0.2, 0.2, 0.1, 0.2, 0.2, 0.3, 0.3, 0.2, 0.6, 0.4, 0.3, 0.2, 0.2, 0.2, 0.2, 1.4, 1.5, 1.5, 1.3, 1.5, 1.3, 1.6, 1.0, 1.3, 1.4, 1.0, 1.5, 1.0, 1.4, 1.3, 1.4, 1.5, 1.0, 1.5, 1.1, 1.8, 1.3, 1.5, 1.2, 1.3, 1.4, 1.4, 1.7, 1.5, 1.0, 1.1, 1.0, 1.2, 1.6, 1.5, 1.6, 1.5, 1.3, 1.3, 1.3, 1.2, 1.4, 1.2, 1.0, 1.3, 1.2, 1.3, 1.3, 1.1, 1.3, 2.5, 1.9, 2.1, 1.8, 2.2, 2.1, 1.7, 1.8, 1.8, 2.5, 2.0, 1.9, 2.1, 2.0, 2.4, 2.3, 1.8, 2.2, 2.3, 1.5, 2.3, 2.0, 2.0, 1.8, 2.1, 1.8, 1.8, 1.8, 2.1, 1.6, 1.9, 2.0, 2.2, 1.5, 1.4, 2.3, 2.4, 1.8, 1.8, 2.1, 2.4, 2.3, 1.9, 2.3, 2.5, 2.3, 1.9, 2.0, 2.3, 1.8]}, {\"label\": \"Species\", \"values\": [1, 1, 1, 1, 1, 1, 1, 1, 1, 1, 1, 1, 1, 1, 1, 1, 1, 1, 1, 1, 1, 1, 1, 1, 1, 1, 1, 1, 1, 1, 1, 1, 1, 1, 1, 1, 1, 1, 1, 1, 1, 1, 1, 1, 1, 1, 1, 1, 1, 1, 2, 2, 2, 2, 2, 2, 2, 2, 2, 2, 2, 2, 2, 2, 2, 2, 2, 2, 2, 2, 2, 2, 2, 2, 2, 2, 2, 2, 2, 2, 2, 2, 2, 2, 2, 2, 2, 2, 2, 2, 2, 2, 2, 2, 2, 2, 2, 2, 2, 2, 3, 3, 3, 3, 3, 3, 3, 3, 3, 3, 3, 3, 3, 3, 3, 3, 3, 3, 3, 3, 3, 3, 3, 3, 3, 3, 3, 3, 3, 3, 3, 3, 3, 3, 3, 3, 3, 3, 3, 3, 3, 3, 3, 3, 3, 3, 3, 3, 3, 3]}], \"domain\": {\"x\": [0.0, 1.0], \"y\": [0.0, 1.0]}, \"line\": {\"color\": [1, 1, 1, 1, 1, 1, 1, 1, 1, 1, 1, 1, 1, 1, 1, 1, 1, 1, 1, 1, 1, 1, 1, 1, 1, 1, 1, 1, 1, 1, 1, 1, 1, 1, 1, 1, 1, 1, 1, 1, 1, 1, 1, 1, 1, 1, 1, 1, 1, 1, 2, 2, 2, 2, 2, 2, 2, 2, 2, 2, 2, 2, 2, 2, 2, 2, 2, 2, 2, 2, 2, 2, 2, 2, 2, 2, 2, 2, 2, 2, 2, 2, 2, 2, 2, 2, 2, 2, 2, 2, 2, 2, 2, 2, 2, 2, 2, 2, 2, 2, 3, 3, 3, 3, 3, 3, 3, 3, 3, 3, 3, 3, 3, 3, 3, 3, 3, 3, 3, 3, 3, 3, 3, 3, 3, 3, 3, 3, 3, 3, 3, 3, 3, 3, 3, 3, 3, 3, 3, 3, 3, 3, 3, 3, 3, 3, 3, 3, 3, 3], \"coloraxis\": \"coloraxis\"}, \"name\": \"\", \"type\": \"parcoords\"}],                        {\"coloraxis\": {\"cmid\": 2, \"colorbar\": {\"title\": {\"text\": \"Species\"}}, \"colorscale\": [[0.0, \"rgb(0, 147, 146)\"], [0.16666666666666666, \"rgb(114, 170, 161)\"], [0.3333333333333333, \"rgb(177, 199, 179)\"], [0.5, \"rgb(241, 234, 200)\"], [0.6666666666666666, \"rgb(229, 185, 173)\"], [0.8333333333333334, \"rgb(217, 137, 148)\"], [1.0, \"rgb(208, 88, 126)\"]]}, \"legend\": {\"tracegroupgap\": 0}, \"margin\": {\"t\": 60}, \"template\": {\"data\": {\"bar\": [{\"error_x\": {\"color\": \"#2a3f5f\"}, \"error_y\": {\"color\": \"#2a3f5f\"}, \"marker\": {\"line\": {\"color\": \"#E5ECF6\", \"width\": 0.5}}, \"type\": \"bar\"}], \"barpolar\": [{\"marker\": {\"line\": {\"color\": \"#E5ECF6\", \"width\": 0.5}}, \"type\": \"barpolar\"}], \"carpet\": [{\"aaxis\": {\"endlinecolor\": \"#2a3f5f\", \"gridcolor\": \"white\", \"linecolor\": \"white\", \"minorgridcolor\": \"white\", \"startlinecolor\": \"#2a3f5f\"}, \"baxis\": {\"endlinecolor\": \"#2a3f5f\", \"gridcolor\": \"white\", \"linecolor\": \"white\", \"minorgridcolor\": \"white\", \"startlinecolor\": \"#2a3f5f\"}, \"type\": \"carpet\"}], \"choropleth\": [{\"colorbar\": {\"outlinewidth\": 0, \"ticks\": \"\"}, \"type\": \"choropleth\"}], \"contour\": [{\"colorbar\": {\"outlinewidth\": 0, \"ticks\": \"\"}, \"colorscale\": [[0.0, \"#0d0887\"], [0.1111111111111111, \"#46039f\"], [0.2222222222222222, \"#7201a8\"], [0.3333333333333333, \"#9c179e\"], [0.4444444444444444, \"#bd3786\"], [0.5555555555555556, \"#d8576b\"], [0.6666666666666666, \"#ed7953\"], [0.7777777777777778, \"#fb9f3a\"], [0.8888888888888888, \"#fdca26\"], [1.0, \"#f0f921\"]], \"type\": \"contour\"}], \"contourcarpet\": [{\"colorbar\": {\"outlinewidth\": 0, \"ticks\": \"\"}, \"type\": \"contourcarpet\"}], \"heatmap\": [{\"colorbar\": {\"outlinewidth\": 0, \"ticks\": \"\"}, \"colorscale\": [[0.0, \"#0d0887\"], [0.1111111111111111, \"#46039f\"], [0.2222222222222222, \"#7201a8\"], [0.3333333333333333, \"#9c179e\"], [0.4444444444444444, \"#bd3786\"], [0.5555555555555556, \"#d8576b\"], [0.6666666666666666, \"#ed7953\"], [0.7777777777777778, \"#fb9f3a\"], [0.8888888888888888, \"#fdca26\"], [1.0, \"#f0f921\"]], \"type\": \"heatmap\"}], \"heatmapgl\": [{\"colorbar\": {\"outlinewidth\": 0, \"ticks\": \"\"}, \"colorscale\": [[0.0, \"#0d0887\"], [0.1111111111111111, \"#46039f\"], [0.2222222222222222, \"#7201a8\"], [0.3333333333333333, \"#9c179e\"], [0.4444444444444444, \"#bd3786\"], [0.5555555555555556, \"#d8576b\"], [0.6666666666666666, \"#ed7953\"], [0.7777777777777778, \"#fb9f3a\"], [0.8888888888888888, \"#fdca26\"], [1.0, \"#f0f921\"]], \"type\": \"heatmapgl\"}], \"histogram\": [{\"marker\": {\"colorbar\": {\"outlinewidth\": 0, \"ticks\": \"\"}}, \"type\": \"histogram\"}], \"histogram2d\": [{\"colorbar\": {\"outlinewidth\": 0, \"ticks\": \"\"}, \"colorscale\": [[0.0, \"#0d0887\"], [0.1111111111111111, \"#46039f\"], [0.2222222222222222, \"#7201a8\"], [0.3333333333333333, \"#9c179e\"], [0.4444444444444444, \"#bd3786\"], [0.5555555555555556, \"#d8576b\"], [0.6666666666666666, \"#ed7953\"], [0.7777777777777778, \"#fb9f3a\"], [0.8888888888888888, \"#fdca26\"], [1.0, \"#f0f921\"]], \"type\": \"histogram2d\"}], \"histogram2dcontour\": [{\"colorbar\": {\"outlinewidth\": 0, \"ticks\": \"\"}, \"colorscale\": [[0.0, \"#0d0887\"], [0.1111111111111111, \"#46039f\"], [0.2222222222222222, \"#7201a8\"], [0.3333333333333333, \"#9c179e\"], [0.4444444444444444, \"#bd3786\"], [0.5555555555555556, \"#d8576b\"], [0.6666666666666666, \"#ed7953\"], [0.7777777777777778, \"#fb9f3a\"], [0.8888888888888888, \"#fdca26\"], [1.0, \"#f0f921\"]], \"type\": \"histogram2dcontour\"}], \"mesh3d\": [{\"colorbar\": {\"outlinewidth\": 0, \"ticks\": \"\"}, \"type\": \"mesh3d\"}], \"parcoords\": [{\"line\": {\"colorbar\": {\"outlinewidth\": 0, \"ticks\": \"\"}}, \"type\": \"parcoords\"}], \"pie\": [{\"automargin\": true, \"type\": \"pie\"}], \"scatter\": [{\"marker\": {\"colorbar\": {\"outlinewidth\": 0, \"ticks\": \"\"}}, \"type\": \"scatter\"}], \"scatter3d\": [{\"line\": {\"colorbar\": {\"outlinewidth\": 0, \"ticks\": \"\"}}, \"marker\": {\"colorbar\": {\"outlinewidth\": 0, \"ticks\": \"\"}}, \"type\": \"scatter3d\"}], \"scattercarpet\": [{\"marker\": {\"colorbar\": {\"outlinewidth\": 0, \"ticks\": \"\"}}, \"type\": \"scattercarpet\"}], \"scattergeo\": [{\"marker\": {\"colorbar\": {\"outlinewidth\": 0, \"ticks\": \"\"}}, \"type\": \"scattergeo\"}], \"scattergl\": [{\"marker\": {\"colorbar\": {\"outlinewidth\": 0, \"ticks\": \"\"}}, \"type\": \"scattergl\"}], \"scattermapbox\": [{\"marker\": {\"colorbar\": {\"outlinewidth\": 0, \"ticks\": \"\"}}, \"type\": \"scattermapbox\"}], \"scatterpolar\": [{\"marker\": {\"colorbar\": {\"outlinewidth\": 0, \"ticks\": \"\"}}, \"type\": \"scatterpolar\"}], \"scatterpolargl\": [{\"marker\": {\"colorbar\": {\"outlinewidth\": 0, \"ticks\": \"\"}}, \"type\": \"scatterpolargl\"}], \"scatterternary\": [{\"marker\": {\"colorbar\": {\"outlinewidth\": 0, \"ticks\": \"\"}}, \"type\": \"scatterternary\"}], \"surface\": [{\"colorbar\": {\"outlinewidth\": 0, \"ticks\": \"\"}, \"colorscale\": [[0.0, \"#0d0887\"], [0.1111111111111111, \"#46039f\"], [0.2222222222222222, \"#7201a8\"], [0.3333333333333333, \"#9c179e\"], [0.4444444444444444, \"#bd3786\"], [0.5555555555555556, \"#d8576b\"], [0.6666666666666666, \"#ed7953\"], [0.7777777777777778, \"#fb9f3a\"], [0.8888888888888888, \"#fdca26\"], [1.0, \"#f0f921\"]], \"type\": \"surface\"}], \"table\": [{\"cells\": {\"fill\": {\"color\": \"#EBF0F8\"}, \"line\": {\"color\": \"white\"}}, \"header\": {\"fill\": {\"color\": \"#C8D4E3\"}, \"line\": {\"color\": \"white\"}}, \"type\": \"table\"}]}, \"layout\": {\"annotationdefaults\": {\"arrowcolor\": \"#2a3f5f\", \"arrowhead\": 0, \"arrowwidth\": 1}, \"autotypenumbers\": \"strict\", \"coloraxis\": {\"colorbar\": {\"outlinewidth\": 0, \"ticks\": \"\"}}, \"colorscale\": {\"diverging\": [[0, \"#8e0152\"], [0.1, \"#c51b7d\"], [0.2, \"#de77ae\"], [0.3, \"#f1b6da\"], [0.4, \"#fde0ef\"], [0.5, \"#f7f7f7\"], [0.6, \"#e6f5d0\"], [0.7, \"#b8e186\"], [0.8, \"#7fbc41\"], [0.9, \"#4d9221\"], [1, \"#276419\"]], \"sequential\": [[0.0, \"#0d0887\"], [0.1111111111111111, \"#46039f\"], [0.2222222222222222, \"#7201a8\"], [0.3333333333333333, \"#9c179e\"], [0.4444444444444444, \"#bd3786\"], [0.5555555555555556, \"#d8576b\"], [0.6666666666666666, \"#ed7953\"], [0.7777777777777778, \"#fb9f3a\"], [0.8888888888888888, \"#fdca26\"], [1.0, \"#f0f921\"]], \"sequentialminus\": [[0.0, \"#0d0887\"], [0.1111111111111111, \"#46039f\"], [0.2222222222222222, \"#7201a8\"], [0.3333333333333333, \"#9c179e\"], [0.4444444444444444, \"#bd3786\"], [0.5555555555555556, \"#d8576b\"], [0.6666666666666666, \"#ed7953\"], [0.7777777777777778, \"#fb9f3a\"], [0.8888888888888888, \"#fdca26\"], [1.0, \"#f0f921\"]]}, \"colorway\": [\"#636efa\", \"#EF553B\", \"#00cc96\", \"#ab63fa\", \"#FFA15A\", \"#19d3f3\", \"#FF6692\", \"#B6E880\", \"#FF97FF\", \"#FECB52\"], \"font\": {\"color\": \"#2a3f5f\"}, \"geo\": {\"bgcolor\": \"white\", \"lakecolor\": \"white\", \"landcolor\": \"#E5ECF6\", \"showlakes\": true, \"showland\": true, \"subunitcolor\": \"white\"}, \"hoverlabel\": {\"align\": \"left\"}, \"hovermode\": \"closest\", \"mapbox\": {\"style\": \"light\"}, \"paper_bgcolor\": \"white\", \"plot_bgcolor\": \"#E5ECF6\", \"polar\": {\"angularaxis\": {\"gridcolor\": \"white\", \"linecolor\": \"white\", \"ticks\": \"\"}, \"bgcolor\": \"#E5ECF6\", \"radialaxis\": {\"gridcolor\": \"white\", \"linecolor\": \"white\", \"ticks\": \"\"}}, \"scene\": {\"xaxis\": {\"backgroundcolor\": \"#E5ECF6\", \"gridcolor\": \"white\", \"gridwidth\": 2, \"linecolor\": \"white\", \"showbackground\": true, \"ticks\": \"\", \"zerolinecolor\": \"white\"}, \"yaxis\": {\"backgroundcolor\": \"#E5ECF6\", \"gridcolor\": \"white\", \"gridwidth\": 2, \"linecolor\": \"white\", \"showbackground\": true, \"ticks\": \"\", \"zerolinecolor\": \"white\"}, \"zaxis\": {\"backgroundcolor\": \"#E5ECF6\", \"gridcolor\": \"white\", \"gridwidth\": 2, \"linecolor\": \"white\", \"showbackground\": true, \"ticks\": \"\", \"zerolinecolor\": \"white\"}}, \"shapedefaults\": {\"line\": {\"color\": \"#2a3f5f\"}}, \"ternary\": {\"aaxis\": {\"gridcolor\": \"white\", \"linecolor\": \"white\", \"ticks\": \"\"}, \"baxis\": {\"gridcolor\": \"white\", \"linecolor\": \"white\", \"ticks\": \"\"}, \"bgcolor\": \"#E5ECF6\", \"caxis\": {\"gridcolor\": \"white\", \"linecolor\": \"white\", \"ticks\": \"\"}}, \"title\": {\"x\": 0.05}, \"xaxis\": {\"automargin\": true, \"gridcolor\": \"white\", \"linecolor\": \"white\", \"ticks\": \"\", \"title\": {\"standoff\": 15}, \"zerolinecolor\": \"white\", \"zerolinewidth\": 2}, \"yaxis\": {\"automargin\": true, \"gridcolor\": \"white\", \"linecolor\": \"white\", \"ticks\": \"\", \"title\": {\"standoff\": 15}, \"zerolinecolor\": \"white\", \"zerolinewidth\": 2}}}},                        {\"responsive\": true}                    ).then(function(){\n",
       "                            \n",
       "var gd = document.getElementById('399d7ee9-79b7-4b48-90a9-97cf60315433');\n",
       "var x = new MutationObserver(function (mutations, observer) {{\n",
       "        var display = window.getComputedStyle(gd).display;\n",
       "        if (!display || display === 'none') {{\n",
       "            console.log([gd, 'removed!']);\n",
       "            Plotly.purge(gd);\n",
       "            observer.disconnect();\n",
       "        }}\n",
       "}});\n",
       "\n",
       "// Listen for the removal of the full notebook cells\n",
       "var notebookContainer = gd.closest('#notebook-container');\n",
       "if (notebookContainer) {{\n",
       "    x.observe(notebookContainer, {childList: true});\n",
       "}}\n",
       "\n",
       "// Listen for the clearing of the current output cell\n",
       "var outputEl = gd.closest('.output');\n",
       "if (outputEl) {{\n",
       "    x.observe(outputEl, {childList: true});\n",
       "}}\n",
       "\n",
       "                        })                };                });            </script>        </div>"
      ]
     },
     "metadata": {},
     "output_type": "display_data"
    }
   ],
   "source": [
    "# import plotly.express as px\n",
    "# df = px.data.iris()\n",
    "# fig = px.parallel_coordinates(df, color=\"species_id\", labels={\"species_id\": \"Species\",\n",
    "#                 \"sepal_width\": \"Sepal Width\", \"sepal_length\": \"Sepal Length\",\n",
    "#                 \"petal_width\": \"Petal Width\", \"petal_length\": \"Petal Length\", },\n",
    "#                              color_continuous_scale=px.colors.diverging.Tealrose,\n",
    "#                              color_continuous_midpoint=2)\n",
    "# fig.show()"
   ]
  },
  {
   "cell_type": "code",
   "execution_count": 15,
   "id": "d68c73d0",
   "metadata": {},
   "outputs": [],
   "source": [
    "# conda install -c conda-forge nbformat"
   ]
  },
  {
   "cell_type": "code",
   "execution_count": 16,
   "id": "7aaf2d9e",
   "metadata": {},
   "outputs": [],
   "source": [
    "# conda install -c conda-forge/label/gcc7 nbformat"
   ]
  },
  {
   "cell_type": "code",
   "execution_count": 49,
   "id": "dc15bef0",
   "metadata": {},
   "outputs": [],
   "source": [
    "# conda install -c conda-forge/label/broken nbformat"
   ]
  },
  {
   "cell_type": "code",
   "execution_count": 50,
   "id": "04ffc84d",
   "metadata": {},
   "outputs": [],
   "source": [
    "# conda install -c conda-forge/label/cf201901 nbformat"
   ]
  },
  {
   "cell_type": "code",
   "execution_count": 51,
   "id": "113be73d",
   "metadata": {},
   "outputs": [],
   "source": [
    "# conda install -c conda-forge/label/cf202003 nbformat"
   ]
  },
  {
   "cell_type": "code",
   "execution_count": null,
   "id": "5ee12f2e",
   "metadata": {},
   "outputs": [],
   "source": []
  },
  {
   "cell_type": "code",
   "execution_count": 21,
   "id": "7baa2453",
   "metadata": {},
   "outputs": [],
   "source": [
    "\n",
    "# clusters_df.drop(columns='cluster_label', inplace=True)\n",
    "# clusters_df.insert(0, 'cluster_label', model.labels_)"
   ]
  },
  {
   "cell_type": "code",
   "execution_count": 21,
   "id": "546b2b78",
   "metadata": {},
   "outputs": [
    {
     "data": {
      "text/html": [
       "<div>\n",
       "<style scoped>\n",
       "    .dataframe tbody tr th:only-of-type {\n",
       "        vertical-align: middle;\n",
       "    }\n",
       "\n",
       "    .dataframe tbody tr th {\n",
       "        vertical-align: top;\n",
       "    }\n",
       "\n",
       "    .dataframe thead th {\n",
       "        text-align: right;\n",
       "    }\n",
       "</style>\n",
       "<table border=\"1\" class=\"dataframe\">\n",
       "  <thead>\n",
       "    <tr style=\"text-align: right;\">\n",
       "      <th></th>\n",
       "      <th>1st Most Common Venue</th>\n",
       "      <th>2nd Most Common Venue</th>\n",
       "      <th>3rd Most Common Venue</th>\n",
       "      <th>4th Most Common Venue</th>\n",
       "      <th>5th Most Common Venue</th>\n",
       "      <th>6th Most Common Venue</th>\n",
       "      <th>7th Most Common Venue</th>\n",
       "      <th>8th Most Common Venue</th>\n",
       "      <th>9th Most Common Venue</th>\n",
       "      <th>10th Most Common Venue</th>\n",
       "      <th>11th Most Common Venue</th>\n",
       "      <th>12th Most Common Venue</th>\n",
       "      <th>13th Most Common Venue</th>\n",
       "      <th>14th Most Common Venue</th>\n",
       "      <th>15th Most Common Venue</th>\n",
       "      <th>16th Most Common Venue</th>\n",
       "      <th>17th Most Common Venue</th>\n",
       "      <th>18th Most Common Venue</th>\n",
       "      <th>19th Most Common Venue</th>\n",
       "      <th>20th Most Common Venue</th>\n",
       "    </tr>\n",
       "    <tr>\n",
       "      <th>cluster_label</th>\n",
       "      <th></th>\n",
       "      <th></th>\n",
       "      <th></th>\n",
       "      <th></th>\n",
       "      <th></th>\n",
       "      <th></th>\n",
       "      <th></th>\n",
       "      <th></th>\n",
       "      <th></th>\n",
       "      <th></th>\n",
       "      <th></th>\n",
       "      <th></th>\n",
       "      <th></th>\n",
       "      <th></th>\n",
       "      <th></th>\n",
       "      <th></th>\n",
       "      <th></th>\n",
       "      <th></th>\n",
       "      <th></th>\n",
       "      <th></th>\n",
       "    </tr>\n",
       "  </thead>\n",
       "  <tbody>\n",
       "    <tr>\n",
       "      <th>0</th>\n",
       "      <td>Mexican Restaurant</td>\n",
       "      <td>Fast Food Restaurant</td>\n",
       "      <td>Serves Impossible Products</td>\n",
       "      <td>Food Truck</td>\n",
       "      <td>Pizza Place</td>\n",
       "      <td>Burger Joint</td>\n",
       "      <td>Restaurant</td>\n",
       "      <td>Taco Place</td>\n",
       "      <td>Sandwich Place</td>\n",
       "      <td>Café</td>\n",
       "      <td>Serves Oatly Products</td>\n",
       "      <td>Bakery</td>\n",
       "      <td>Chinese Restaurant</td>\n",
       "      <td>BBQ Joint</td>\n",
       "      <td>Asian Restaurant</td>\n",
       "      <td>Breakfast Spot</td>\n",
       "      <td>Vietnamese Restaurant</td>\n",
       "      <td>Fried Chicken Joint</td>\n",
       "      <td>Thai Restaurant</td>\n",
       "      <td>Seafood Restaurant</td>\n",
       "    </tr>\n",
       "    <tr>\n",
       "      <th>1</th>\n",
       "      <td>Mexican Restaurant</td>\n",
       "      <td>Fast Food Restaurant</td>\n",
       "      <td>Serves Impossible Products</td>\n",
       "      <td>Pizza Place</td>\n",
       "      <td>Taco Place</td>\n",
       "      <td>Food Truck</td>\n",
       "      <td>Sandwich Place</td>\n",
       "      <td>Burger Joint</td>\n",
       "      <td>BBQ Joint</td>\n",
       "      <td>Donut Shop</td>\n",
       "      <td>Chinese Restaurant</td>\n",
       "      <td>Café</td>\n",
       "      <td>Fried Chicken Joint</td>\n",
       "      <td>Asian Restaurant</td>\n",
       "      <td>Bakery</td>\n",
       "      <td>Sushi Restaurant</td>\n",
       "      <td>Italian Restaurant</td>\n",
       "      <td>Wings Joint</td>\n",
       "      <td>Serves Oatly Products</td>\n",
       "      <td>Seafood Restaurant</td>\n",
       "    </tr>\n",
       "    <tr>\n",
       "      <th>2</th>\n",
       "      <td>Serves Oatly Products</td>\n",
       "      <td>Serves Impossible Products</td>\n",
       "      <td>Mexican Restaurant</td>\n",
       "      <td>BBQ Joint</td>\n",
       "      <td>Pizza Place</td>\n",
       "      <td>Fried Chicken Joint</td>\n",
       "      <td>Italian Restaurant</td>\n",
       "      <td>Breakfast Spot</td>\n",
       "      <td>Taco Place</td>\n",
       "      <td>Steakhouse</td>\n",
       "      <td>Indian Restaurant</td>\n",
       "      <td>New American Restaurant</td>\n",
       "      <td>Restaurant</td>\n",
       "      <td>Fast Food Restaurant</td>\n",
       "      <td>Donut Shop</td>\n",
       "      <td>Mediterranean Restaurant</td>\n",
       "      <td>Sushi Restaurant</td>\n",
       "      <td>Burger Joint</td>\n",
       "      <td>Tex-Mex Restaurant</td>\n",
       "      <td>Vietnamese Restaurant</td>\n",
       "    </tr>\n",
       "  </tbody>\n",
       "</table>\n",
       "</div>"
      ],
      "text/plain": [
       "               1st Most Common Venue       2nd Most Common Venue  \\\n",
       "cluster_label                                                      \n",
       "0                 Mexican Restaurant        Fast Food Restaurant   \n",
       "1                 Mexican Restaurant        Fast Food Restaurant   \n",
       "2              Serves Oatly Products  Serves Impossible Products   \n",
       "\n",
       "                    3rd Most Common Venue 4th Most Common Venue  \\\n",
       "cluster_label                                                     \n",
       "0              Serves Impossible Products            Food Truck   \n",
       "1              Serves Impossible Products           Pizza Place   \n",
       "2                      Mexican Restaurant             BBQ Joint   \n",
       "\n",
       "              5th Most Common Venue 6th Most Common Venue  \\\n",
       "cluster_label                                               \n",
       "0                       Pizza Place          Burger Joint   \n",
       "1                        Taco Place            Food Truck   \n",
       "2                       Pizza Place   Fried Chicken Joint   \n",
       "\n",
       "              7th Most Common Venue 8th Most Common Venue  \\\n",
       "cluster_label                                               \n",
       "0                        Restaurant            Taco Place   \n",
       "1                    Sandwich Place          Burger Joint   \n",
       "2                Italian Restaurant        Breakfast Spot   \n",
       "\n",
       "              9th Most Common Venue 10th Most Common Venue  \\\n",
       "cluster_label                                                \n",
       "0                    Sandwich Place                   Café   \n",
       "1                         BBQ Joint             Donut Shop   \n",
       "2                        Taco Place             Steakhouse   \n",
       "\n",
       "              11th Most Common Venue   12th Most Common Venue  \\\n",
       "cluster_label                                                   \n",
       "0              Serves Oatly Products                   Bakery   \n",
       "1                 Chinese Restaurant                     Café   \n",
       "2                  Indian Restaurant  New American Restaurant   \n",
       "\n",
       "              13th Most Common Venue 14th Most Common Venue  \\\n",
       "cluster_label                                                 \n",
       "0                 Chinese Restaurant              BBQ Joint   \n",
       "1                Fried Chicken Joint       Asian Restaurant   \n",
       "2                         Restaurant   Fast Food Restaurant   \n",
       "\n",
       "              15th Most Common Venue    16th Most Common Venue  \\\n",
       "cluster_label                                                    \n",
       "0                   Asian Restaurant            Breakfast Spot   \n",
       "1                             Bakery          Sushi Restaurant   \n",
       "2                         Donut Shop  Mediterranean Restaurant   \n",
       "\n",
       "              17th Most Common Venue 18th Most Common Venue  \\\n",
       "cluster_label                                                 \n",
       "0              Vietnamese Restaurant    Fried Chicken Joint   \n",
       "1                 Italian Restaurant            Wings Joint   \n",
       "2                   Sushi Restaurant           Burger Joint   \n",
       "\n",
       "              19th Most Common Venue 20th Most Common Venue  \n",
       "cluster_label                                                \n",
       "0                    Thai Restaurant     Seafood Restaurant  \n",
       "1              Serves Oatly Products     Seafood Restaurant  \n",
       "2                 Tex-Mex Restaurant  Vietnamese Restaurant  "
      ]
     },
     "execution_count": 21,
     "metadata": {},
     "output_type": "execute_result"
    }
   ],
   "source": [
    "label_group_df = clusters_df.groupby(['cluster_label']).sum()\n",
    "num_top_venues = 20\n",
    "indicators = ['st', 'nd', 'rd']\n",
    "\n",
    "# create columns according to number of top venues\n",
    "columns = ['cluster_label']\n",
    "for ind in np.arange(num_top_venues):\n",
    "    try:\n",
    "        columns.append('{}{} Most Common Venue'.format(ind+1, indicators[ind]))\n",
    "    except:\n",
    "        columns.append('{}th Most Common Venue'.format(ind+1))\n",
    "\n",
    "# create a new dataframe\n",
    "top_10_df = pd.DataFrame(columns=columns)\n",
    "top_10_df['cluster_label'] = label_group_df.index\n",
    "\n",
    "for ind in np.arange(label_group_df.shape[0]):\n",
    "    top_10_df.iloc[ind, 1:] = return_most_common_venues(label_group_df.iloc[ind, :], num_top_venues)\n",
    "\n",
    "top_10_df.set_index('cluster_label', inplace=True)\n",
    "top_10_df"
   ]
  },
  {
   "cell_type": "code",
   "execution_count": 14,
   "id": "9ba4c74c",
   "metadata": {
    "scrolled": true
   },
   "outputs": [
    {
     "name": "stdout",
     "output_type": "stream",
     "text": [
      "------- Cluster 0 ---------------------------------------------------------------\n",
      "                               number_of_venues\n",
      "Fast Food Restaurant                         47\n",
      "Serves Impossible Products                   46\n",
      "Food Truck                                   42\n",
      "Burger Joint                                 29\n",
      "Sandwich Place                               24\n",
      "Serves Oatly Products                        20\n",
      "BBQ Joint                                    15\n",
      "Fried Chicken Joint                           9\n",
      "Wings Joint                                   5\n",
      "Vegetarian / Vegan Restaurant                 4\n",
      "Comfort Food Restaurant                       3\n",
      "Burrito Place                                 2\n"
     ]
    },
    {
     "data": {
      "image/png": "[encoded data removed]",
      "text/plain": [
       "<Figure size 504x504 with 1 Axes>"
      ]
     },
     "metadata": {
      "needs_background": "light"
     },
     "output_type": "display_data"
    },
    {
     "data": {
      "image/png": "[encoded data removed]",
      "text/plain": [
       "<Figure size 1296x648 with 1 Axes>"
      ]
     },
     "metadata": {
      "needs_background": "light"
     },
     "output_type": "display_data"
    },
    {
     "name": "stdout",
     "output_type": "stream",
     "text": [
      "------- Cluster 1 ---------------------------------------------------------------\n",
      "                               number_of_venues\n",
      "Fast Food Restaurant                         62\n",
      "Serves Impossible Products                   56\n",
      "Food Truck                                   41\n",
      "Sandwich Place                               35\n",
      "Burger Joint                                 30\n",
      "BBQ Joint                                    18\n",
      "Fried Chicken Joint                          13\n",
      "Wings Joint                                  11\n",
      "Serves Oatly Products                        10\n",
      "Vegetarian / Vegan Restaurant                 2\n",
      "Burrito Place                                 1\n",
      "Serves Beyond Products                        1\n"
     ]
    },
    {
     "data": {
      "image/png": "[encoded data removed]",
      "text/plain": [
       "<Figure size 504x504 with 1 Axes>"
      ]
     },
     "metadata": {
      "needs_background": "light"
     },
     "output_type": "display_data"
    },
    {
     "data": {
      "image/png": "[encoded data removed]",
      "text/plain": [
       "<Figure size 1296x648 with 1 Axes>"
      ]
     },
     "metadata": {
      "needs_background": "light"
     },
     "output_type": "display_data"
    },
    {
     "name": "stdout",
     "output_type": "stream",
     "text": [
      "------- Cluster 2 ---------------------------------------------------------------\n",
      "                            number_of_venues\n",
      "Serves Oatly Products                     19\n",
      "Serves Impossible Products                10\n",
      "BBQ Joint                                  3\n",
      "Fried Chicken Joint                        3\n",
      "Fast Food Restaurant                       1\n",
      "Burger Joint                               1\n"
     ]
    },
    {
     "data": {
      "image/png": "[encoded data removed]",
      "text/plain": [
       "<Figure size 504x504 with 1 Axes>"
      ]
     },
     "metadata": {
      "needs_background": "light"
     },
     "output_type": "display_data"
    },
    {
     "data": {
      "image/png": "[encoded data removed]",
      "text/plain": [
       "<Figure size 1296x648 with 1 Axes>"
      ]
     },
     "metadata": {
      "needs_background": "light"
     },
     "output_type": "display_data"
    }
   ],
   "source": [
    "#Categories of interest\n",
    "of_interest = ['Serves Impossible Products', 'Serves Beyond Products', 'Serves Oatly Products', 'Fast Food Restaurant', 'Burger Joint', \n",
    "               'Wings Joint', 'Sandwich Place','BBQ Joint','Fried Chicken Joint',\n",
    "               'Burger Joint', 'Vegetarian / Vegan Restaurant', 'Burrito Place', \n",
    "               'Food Truck','Comfort Food Restaurant']\n",
    "\n",
    "#Read in the ATX shapefile \n",
    "atx = gpd.GeoDataFrame.from_file('data/Neighborhoods/')\n",
    "\n",
    "#Create for loop\n",
    "for label in label_group_df.index:\n",
    "    #bar\n",
    "    cluster_df = pd.DataFrame(data=label_group_df.T[label].sort_values(ascending=False))\n",
    "    cluster_df.rename(columns={label: \"number_of_venues\"},inplace=True)\n",
    "    cluster_df = cluster_df[cluster_df['number_of_venues'] > 0]\n",
    "    \n",
    "    \n",
    "    print(f'------- Cluster {label} ---------------------------------------------------------------')\n",
    "    print(cluster_df.loc[[i for i in cluster_df.index if i in of_interest]])\n",
    "    #map\n",
    "    num_list = []\n",
    "    for i in atx['neighname']:\n",
    "        try:\n",
    "            label_df = clusters_df[clusters_df['cluster_label'] == label]\n",
    "            num_list.append(int(label_df[label_df.index == i].drop(columns='cluster_label').T.sum()))\n",
    "        except:\n",
    "            num_list.append(0)\n",
    "    atx['num_restaurants'] = num_list\n",
    "\n",
    "    fig, ax = plt.subplots(figsize=(7, 7))\n",
    "    atx.plot(column='num_restaurants',\n",
    "             cmap='Reds', \n",
    "             ax=ax, \n",
    "             scheme='quantiles',\n",
    "             edgecolor='white',\n",
    "            legend=True)\n",
    "    plt.title(f\"Cluster {label} Heatmap\", fontsize=15)\n",
    "    plt.xlabel('Longitude', fontsize=12)\n",
    "    plt.ylabel('Latitude', fontsize=12)\n",
    "    plt.savefig(f'assets/4_clusters/cluster_{label}_heatmap.png')\n",
    "    plt.show();\n",
    "    \n",
    "    plt.figure(figsize=(18,9))\n",
    "    plt.title(f'Cluster {label}: Retaurant Categories', fontsize=18)\n",
    "    plt.xlabel('Category', fontsize=16)\n",
    "    plt.ylabel('Venue Count', fontsize=16)\n",
    "    plt.xticks(rotation = 90)\n",
    "    clrs = ['red' if cluster_df.index[i] in of_interest else 'grey' for i in range(0, len(cluster_df))]\n",
    "    plt.bar(cluster_df.index, cluster_df['number_of_venues'], color=clrs)\n",
    "    plt.savefig(f'assets/4_clusters/cluster_{label}_bar.png')\n",
    "    plt.show();"
   ]
  },
  {
   "cell_type": "markdown",
   "id": "c28f85bd",
   "metadata": {},
   "source": [
    "### Lets Dig into cluster 1 a bit more for example\n",
    "- What is the 'of_interest' breakdown by neighborhood for cluster 1?\n",
    "- What are the actual restaurants that make up cluster 1?\n",
    "- Why are there so few gradients on the heatmap?\n",
    "- Can we create a scoreing system for neighborhoods?\n",
    "    - Sum of restaurants in 'of_interest' by neighborhood?\n",
    "    - Break out impossible, beyond and oatly counts separate"
   ]
  },
  {
   "cell_type": "markdown",
   "id": "823b234c",
   "metadata": {},
   "source": [
    "#### Create a new 'cluster_label' column in the original `df`"
   ]
  },
  {
   "cell_type": "code",
   "execution_count": 15,
   "id": "addf5aeb",
   "metadata": {},
   "outputs": [],
   "source": [
    "# Create dictionary of {Neighborhood: Cluster Label} for mapping purposes\n",
    "dict_df = clusters_df.reset_index()[['neighborhood', 'cluster_label']]\n",
    "dict_ = dict(zip(dict_df.neighborhood, dict_df.cluster_label))"
   ]
  },
  {
   "cell_type": "code",
   "execution_count": 16,
   "id": "f95067d7",
   "metadata": {
    "scrolled": true
   },
   "outputs": [
    {
     "data": {
      "text/html": [
       "<div>\n",
       "<style scoped>\n",
       "    .dataframe tbody tr th:only-of-type {\n",
       "        vertical-align: middle;\n",
       "    }\n",
       "\n",
       "    .dataframe tbody tr th {\n",
       "        vertical-align: top;\n",
       "    }\n",
       "\n",
       "    .dataframe thead th {\n",
       "        text-align: right;\n",
       "    }\n",
       "</style>\n",
       "<table border=\"1\" class=\"dataframe\">\n",
       "  <thead>\n",
       "    <tr style=\"text-align: right;\">\n",
       "      <th></th>\n",
       "      <th>venue</th>\n",
       "      <th>address</th>\n",
       "      <th>latitude</th>\n",
       "      <th>longitude</th>\n",
       "      <th>neighborhood</th>\n",
       "      <th>category</th>\n",
       "      <th>cluster_label</th>\n",
       "    </tr>\n",
       "  </thead>\n",
       "  <tbody>\n",
       "    <tr>\n",
       "      <th>0</th>\n",
       "      <td>McDonald's</td>\n",
       "      <td>13749 N Highway 183</td>\n",
       "      <td>30.459677</td>\n",
       "      <td>-97.792390</td>\n",
       "      <td>ANDERSON MILL</td>\n",
       "      <td>Fast Food Restaurant</td>\n",
       "      <td>1</td>\n",
       "    </tr>\n",
       "    <tr>\n",
       "      <th>1</th>\n",
       "      <td>P. Terry's Burger Stand</td>\n",
       "      <td>13770 N Highway 183</td>\n",
       "      <td>30.461215</td>\n",
       "      <td>-97.795304</td>\n",
       "      <td>ANDERSON MILL</td>\n",
       "      <td>Burger Joint</td>\n",
       "      <td>1</td>\n",
       "    </tr>\n",
       "    <tr>\n",
       "      <th>2</th>\n",
       "      <td>Pluckers Wing Bar</td>\n",
       "      <td>11066 Pecan Park Blvd Ste G</td>\n",
       "      <td>30.468469</td>\n",
       "      <td>-97.803540</td>\n",
       "      <td>AVERY RANCH--LAKELINE</td>\n",
       "      <td>Wings Joint</td>\n",
       "      <td>1</td>\n",
       "    </tr>\n",
       "    <tr>\n",
       "      <th>3</th>\n",
       "      <td>The Halal Gurus</td>\n",
       "      <td>13729 US-183 suite 890</td>\n",
       "      <td>30.458305</td>\n",
       "      <td>-97.791930</td>\n",
       "      <td>ANDERSON MILL</td>\n",
       "      <td>Middle Eastern Restaurant</td>\n",
       "      <td>1</td>\n",
       "    </tr>\n",
       "    <tr>\n",
       "      <th>4</th>\n",
       "      <td>Texas Roadhouse</td>\n",
       "      <td>13435 N. US 183 SVRD NB, Bldg. 7</td>\n",
       "      <td>30.447093</td>\n",
       "      <td>-97.788729</td>\n",
       "      <td>ANDERSON MILL</td>\n",
       "      <td>Steakhouse</td>\n",
       "      <td>1</td>\n",
       "    </tr>\n",
       "  </tbody>\n",
       "</table>\n",
       "</div>"
      ],
      "text/plain": [
       "                     venue                           address   latitude  \\\n",
       "0               McDonald's               13749 N Highway 183  30.459677   \n",
       "1  P. Terry's Burger Stand               13770 N Highway 183  30.461215   \n",
       "2        Pluckers Wing Bar       11066 Pecan Park Blvd Ste G  30.468469   \n",
       "3          The Halal Gurus            13729 US-183 suite 890  30.458305   \n",
       "4          Texas Roadhouse  13435 N. US 183 SVRD NB, Bldg. 7  30.447093   \n",
       "\n",
       "   longitude           neighborhood                   category  cluster_label  \n",
       "0 -97.792390          ANDERSON MILL       Fast Food Restaurant              1  \n",
       "1 -97.795304          ANDERSON MILL               Burger Joint              1  \n",
       "2 -97.803540  AVERY RANCH--LAKELINE                Wings Joint              1  \n",
       "3 -97.791930          ANDERSON MILL  Middle Eastern Restaurant              1  \n",
       "4 -97.788729          ANDERSON MILL                 Steakhouse              1  "
      ]
     },
     "execution_count": 16,
     "metadata": {},
     "output_type": "execute_result"
    }
   ],
   "source": [
    "# Create 'cluster_label' columnn with list comprehension\n",
    "df['cluster_label'] = [dict_[i] for i in df['neighborhood']]\n",
    "df.head()"
   ]
  },
  {
   "cell_type": "markdown",
   "id": "4641df6e",
   "metadata": {},
   "source": [
    "What are the actual restaurants that make up cluster 1?"
   ]
  },
  {
   "cell_type": "code",
   "execution_count": 22,
   "id": "a4cb4ed0",
   "metadata": {},
   "outputs": [],
   "source": [
    "cluster1_df = df[df['cluster_label'] == 1]"
   ]
  },
  {
   "cell_type": "code",
   "execution_count": 31,
   "id": "3ec41fa9",
   "metadata": {},
   "outputs": [
    {
     "data": {
      "text/plain": [
       "neighborhood\n",
       "CHERRY CREEK             43\n",
       "NORTH BURNET             40\n",
       "ANDERSON MILL            36\n",
       "AVERY RANCH--LAKELINE    36\n",
       "FOUR POINTS              36\n",
       "BERGSTROM                35\n",
       "BARTON CREEK MALL        31\n",
       "NORTHWEST HILLS          31\n",
       "ROSEDALE                 30\n",
       "WEST UNIVERSITY          28\n",
       "RIVERSIDE                28\n",
       "GOVALLE                  26\n",
       "SLAUGHTER CREEK          25\n",
       "WINDSOR PARK             24\n",
       "BOULDIN CREEK            24\n",
       "MCKINNEY                 23\n",
       "TECH RIDGE               23\n",
       "WEST OAK HILL            23\n",
       "SOUTH LAMAR              22\n",
       "NORTH LAMAR RUNDBERG     21\n",
       "HOLLY                    19\n",
       "EAST OAK HILL            19\n",
       "SWEETBRIAR               18\n",
       "BLUFF SPRINGS            18\n",
       "MONTOPOLIS               17\n",
       "GARRISON PARK            15\n",
       "ST. JOHNS                15\n",
       "Name: venue, dtype: int64"
      ]
     },
     "execution_count": 31,
     "metadata": {},
     "output_type": "execute_result"
    }
   ],
   "source": [
    "# How many per neighborhood?\n",
    "cluster1_df.groupby('neighborhood')['venue'].count().sort_values(ascending=False)"
   ]
  },
  {
   "cell_type": "code",
   "execution_count": 35,
   "id": "abda6616",
   "metadata": {},
   "outputs": [
    {
     "data": {
      "text/plain": [
       "neighborhood\n",
       "WEST UNIVERSITY          19\n",
       "CHERRY CREEK             18\n",
       "ANDERSON MILL            16\n",
       "FOUR POINTS              16\n",
       "WINDSOR PARK             16\n",
       "AVERY RANCH--LAKELINE    14\n",
       "MCKINNEY                 13\n",
       "NORTH BURNET             13\n",
       "RIVERSIDE                11\n",
       "BARTON CREEK MALL        11\n",
       "BERGSTROM                11\n",
       "WEST OAK HILL            11\n",
       "HOLLY                    10\n",
       "SOUTH LAMAR              10\n",
       "SLAUGHTER CREEK          10\n",
       "BOULDIN CREEK             9\n",
       "TECH RIDGE                9\n",
       "NORTHWEST HILLS           9\n",
       "EAST OAK HILL             9\n",
       "GOVALLE                   8\n",
       "ROSEDALE                  7\n",
       "MONTOPOLIS                7\n",
       "NORTH LAMAR RUNDBERG      5\n",
       "ST. JOHNS                 5\n",
       "SWEETBRIAR                5\n",
       "BLUFF SPRINGS             4\n",
       "GARRISON PARK             4\n",
       "Name: venue, dtype: int64"
      ]
     },
     "execution_count": 35,
     "metadata": {},
     "output_type": "execute_result"
    }
   ],
   "source": [
    "# How many of interest per neighborhood?\n",
    "cluster1_of_interest_df = cluster1_df[cluster1_df['category'].isin(of_interest)]\n",
    "cluster1_of_interest_df.groupby('neighborhood')['venue'].count().sort_values(ascending=False)"
   ]
  },
  {
   "cell_type": "code",
   "execution_count": 39,
   "id": "61cf9b2e",
   "metadata": {},
   "outputs": [
    {
     "data": {
      "text/plain": [
       "venue\n",
       "Starbucks         32\n",
       "McDonald's        14\n",
       "Whataburger       11\n",
       "Taco Bell         11\n",
       "Burger King        9\n",
       "                  ..\n",
       "Hunan Ranch        1\n",
       "Hummus Cuisine     1\n",
       "Howdy Donuts       1\n",
       "Howdy Donut        1\n",
       "Ñoños Tacos #2     1\n",
       "Name: venue, Length: 502, dtype: int64"
      ]
     },
     "execution_count": 39,
     "metadata": {},
     "output_type": "execute_result"
    }
   ],
   "source": [
    "cluster1_df.groupby('venue')['venue'].count().sort_values(ascending=False)"
   ]
  },
  {
   "cell_type": "markdown",
   "id": "6d1cf681",
   "metadata": {},
   "source": [
    "### What is the 'of_interest' breakdown by neighborhood for each cluster?"
   ]
  },
  {
   "cell_type": "code",
   "execution_count": 17,
   "id": "1a0d9024",
   "metadata": {
    "scrolled": true
   },
   "outputs": [
    {
     "data": {
      "text/plain": [
       "(667, 7)"
      ]
     },
     "execution_count": 17,
     "metadata": {},
     "output_type": "execute_result"
    }
   ],
   "source": [
    "cluster0_df = df[df['cluster_label'] == 0]\n",
    "cluster0_df.shape"
   ]
  },
  {
   "cell_type": "code",
   "execution_count": 18,
   "id": "5fb5211d",
   "metadata": {
    "scrolled": false
   },
   "outputs": [
    {
     "data": {
      "text/plain": [
       "(706, 7)"
      ]
     },
     "execution_count": 18,
     "metadata": {},
     "output_type": "execute_result"
    }
   ],
   "source": [
    "cluster1_df = df[df['cluster_label'] == 1]\n",
    "cluster1_df.shape"
   ]
  },
  {
   "cell_type": "code",
   "execution_count": 19,
   "id": "4d615594",
   "metadata": {},
   "outputs": [
    {
     "data": {
      "text/plain": [
       "(60, 7)"
      ]
     },
     "execution_count": 19,
     "metadata": {},
     "output_type": "execute_result"
    }
   ],
   "source": [
    "cluster2_df = df[df['cluster_label'] == 2]\n",
    "cluster2_df.shape"
   ]
  },
  {
   "cell_type": "markdown",
   "id": "e466a223",
   "metadata": {},
   "source": [
    "### What are the actual restaurants that make up cluster 2?"
   ]
  },
  {
   "cell_type": "code",
   "execution_count": null,
   "id": "abbaa373",
   "metadata": {},
   "outputs": [],
   "source": []
  },
  {
   "cell_type": "code",
   "execution_count": null,
   "id": "2d176739",
   "metadata": {},
   "outputs": [],
   "source": []
  }
 ],
 "metadata": {
  "kernelspec": {
   "display_name": "geo_env",
   "language": "python",
   "name": "geo_env"
  },
  "language_info": {
   "codemirror_mode": {
    "name": "ipython",
    "version": 3
   },
   "file_extension": ".py",
   "mimetype": "text/x-python",
   "name": "python",
   "nbconvert_exporter": "python",
   "pygments_lexer": "ipython3",
   "version": "3.9.7"
  }
 },
 "nbformat": 4,
 "nbformat_minor": 5
}
